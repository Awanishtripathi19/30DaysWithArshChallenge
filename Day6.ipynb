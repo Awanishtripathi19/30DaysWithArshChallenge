{
 "cells": [
  {
   "cell_type": "markdown",
   "id": "f4e10094",
   "metadata": {},
   "source": [
    "## Question 1"
   ]
  },
  {
   "cell_type": "markdown",
   "id": "9f76a348",
   "metadata": {},
   "source": [
    "You are given a circle represented as (radius, xCenter, yCenter) and an axis-aligned rectangle represented as (x1, y1, x2, y2), where (x1, y1) are the coordinates of the bottom-left corner, and (x2, y2) are the coordinates of the top-right corner of the rectangle.\n",
    "\n",
    "Return true if the circle and rectangle are overlapped otherwise return false. In other words, check if there is any point (xi, yi) that belongs to the circle and the rectangle at the same time."
   ]
  },
  {
   "cell_type": "code",
   "execution_count": null,
   "id": "12f1189b",
   "metadata": {},
   "outputs": [],
   "source": [
    "class Solution:\n",
    "    def checkOverlap(self, radius: int, xCenter: int, yCenter: int, x1: int, y1: int, x2: int, y2: int) -> bool:\n",
    "        nearest_x = max(x1, min(x2, xCenter))\n",
    "        nearest_y = max(y1, min(y2, yCenter))\n",
    "        dist_x = nearest_x - xCenter\n",
    "        dist_y = nearest_y - yCenter\n",
    "\n",
    "        return dist_x ** 2 + dist_y ** 2 <= radius ** 2"
   ]
  },
  {
   "cell_type": "markdown",
   "id": "b9f63f3e",
   "metadata": {},
   "source": [
    "## Question 2"
   ]
  },
  {
   "cell_type": "markdown",
   "id": "9c8124c8",
   "metadata": {},
   "source": [
    "There are n friends that are playing a game. The friends are sitting in a circle and are numbered from 1 to n in clockwise order. More formally, moving clockwise from the ith friend brings you to the (i+1)th friend for 1 <= i < n, and moving clockwise from the nth friend brings you to the 1st friend.\n",
    "\n",
    "The rules of the game are as follows:\n",
    "\n",
    "1. Start at the 1st friend.\n",
    "2. Count the next k friends in the clockwise direction including the friend you started at. The counting wraps around the circle and may count some friends more than once.\n",
    "3. The last friend you counted leaves the circle and loses the game.\n",
    "4. If there is still more than one friend in the circle, go back to step 2 starting from the friend immediately clockwise of the friend who just lost and repeat.\n",
    "5. Else, the last friend in the circle wins the game.\n",
    "\n",
    "Given the number of friends, n, and an integer k, return the winner of the game."
   ]
  },
  {
   "cell_type": "code",
   "execution_count": null,
   "id": "20108793",
   "metadata": {},
   "outputs": [],
   "source": [
    "class Solution:\n",
    "    def findTheWinner(self, n: int, k: int) -> int:\n",
    "        friends = list(range(1, n + 1))\n",
    "        current_position = 0\n",
    "\n",
    "        while len(friends) > 1:\n",
    "            current_position = (current_position + k - 1) % len(friends)\n",
    "            friends.pop(current_position)\n",
    "\n",
    "        return friends[0]"
   ]
  },
  {
   "cell_type": "markdown",
   "id": "8d87593a",
   "metadata": {},
   "source": [
    "## Question 3"
   ]
  },
  {
   "cell_type": "markdown",
   "id": "eb13a60e",
   "metadata": {},
   "source": [
    "You are given a 2D array of integers envelopes where envelopes[i] = [wi, hi] represents the width and the height of an envelope.\n",
    "\n",
    "One envelope can fit into another if and only if both the width and height of one envelope are greater than the other envelope's width and height.\n",
    "\n",
    "Return the maximum number of envelopes you can Russian doll (i.e., put one inside the other).\n",
    "\n",
    "Note: You cannot rotate an envelope."
   ]
  },
  {
   "cell_type": "code",
   "execution_count": null,
   "id": "ca64aa4f",
   "metadata": {},
   "outputs": [],
   "source": [
    "class Solution:\n",
    "    def maxEnvelopes(self, envelopes: List[List[int]]) -> int:\n",
    "        if not envelopes:\n",
    "            return 0\n",
    "\n",
    "        # Sort envelopes based on widths in ascending order\n",
    "        envelopes.sort(key=lambda x: (x[0], -x[1]))\n",
    "\n",
    "        # Use binary search to find the longest increasing subsequence of heights\n",
    "        heights = [float('inf')] * len(envelopes)\n",
    "        result = 0\n",
    "\n",
    "        for _, h in envelopes:\n",
    "            index = bisect_left(heights, h)\n",
    "            heights[index] = h\n",
    "            result = max(result, index + 1)\n",
    "\n",
    "        return result"
   ]
  }
 ],
 "metadata": {
  "kernelspec": {
   "display_name": "Python 3 (ipykernel)",
   "language": "python",
   "name": "python3"
  },
  "language_info": {
   "codemirror_mode": {
    "name": "ipython",
    "version": 3
   },
   "file_extension": ".py",
   "mimetype": "text/x-python",
   "name": "python",
   "nbconvert_exporter": "python",
   "pygments_lexer": "ipython3",
   "version": "3.11.5"
  }
 },
 "nbformat": 4,
 "nbformat_minor": 5
}
