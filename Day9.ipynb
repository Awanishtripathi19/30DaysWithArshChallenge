{
 "cells": [
  {
   "cell_type": "markdown",
   "id": "8882e2ee",
   "metadata": {},
   "source": [
    "## Question 1"
   ]
  },
  {
   "cell_type": "markdown",
   "id": "738525e1",
   "metadata": {},
   "source": [
    "There are n cities numbered from 0 to n-1. Given the array edges where edges[i] = [fromi, toi, weighti] represents a bidirectional and weighted edge between cities fromi and toi, and given the integer distanceThreshold.\n",
    "\n",
    "Return the city with the smallest number of cities that are reachable through some path and whose distance is at most distanceThreshold, If there are multiple such cities, return the city with the greatest number.\n",
    "\n",
    "Notice that the distance of a path connecting cities i and j is equal to the sum of the edges' weights along that path."
   ]
  },
  {
   "cell_type": "code",
   "execution_count": null,
   "id": "e52f5a2e",
   "metadata": {},
   "outputs": [],
   "source": [
    "class Solution:\n",
    "    def findTheCity(self, n: int, edges: List[List[int]], distanceThreshold: int) -> int:\n",
    "        cost=[[float('inf') if i!=j else 0 for j in range(n)] for i in range(n)]\n",
    "        for u,v,d in edges:\n",
    "            cost[u][v]=d\n",
    "            cost[v][u]=d\n",
    "        for via in range(n):\n",
    "            for i in range(n):\n",
    "                for j in range(n):\n",
    "                    cost[i][j]=min(cost[i][j],cost[i][via]+cost[via][j])\n",
    "        d={}\n",
    "        for i in range(n):\n",
    "            c=0\n",
    "            for j in range(n):\n",
    "                if cost[i][j]<=distanceThreshold and i!=j:\n",
    "                    c+=1\n",
    "            d[i]=c\n",
    "        m1=min(d.values())\n",
    "        m2=0\n",
    "        for k,v in d.items():\n",
    "            if m1==v:\n",
    "                m2=max(m2,k)\n",
    "        return m2"
   ]
  },
  {
   "cell_type": "markdown",
   "id": "bb67b72f",
   "metadata": {},
   "source": [
    "## Question 2"
   ]
  },
  {
   "cell_type": "markdown",
   "id": "1c84ff90",
   "metadata": {},
   "source": [
    "You are given a 0-indexed array of positive integers nums.\n",
    "\n",
    "A subarray of nums is called incremovable if nums becomes strictly increasing on removing the subarray. For example, the subarray [3, 4] is an incremovable subarray of [5, 3, 4, 6, 7] because removing this subarray changes the array [5, 3, 4, 6, 7] to [5, 6, 7] which is strictly increasing.\n",
    "\n",
    "Return the total number of incremovable subarrays of nums.\n",
    "\n",
    "Note that an empty array is considered strictly increasing.\n",
    "\n",
    "A subarray is a contiguous non-empty sequence of elements within an array."
   ]
  },
  {
   "cell_type": "code",
   "execution_count": null,
   "id": "f0a5a1d6",
   "metadata": {},
   "outputs": [],
   "source": [
    "class Solution:\n",
    "    def incremovableSubarrayCount(self, nums: List[int]) -> int:\n",
    "        ans = 0\n",
    "        n = len(nums)\n",
    "\n",
    "        for i in range(n):\n",
    "            for j in range(i, n):\n",
    "                ok = True\n",
    "                lst = -1\n",
    "\n",
    "                for k in range(n):\n",
    "                    if i <= k <= j:\n",
    "                        continue\n",
    "                    else:\n",
    "                        ok &= lst < nums[k]\n",
    "                        lst = nums[k]\n",
    "\n",
    "                ans += int(ok)\n",
    "        return ans"
   ]
  },
  {
   "cell_type": "markdown",
   "id": "29b5afb2",
   "metadata": {},
   "source": [
    "## Question 3"
   ]
  },
  {
   "cell_type": "markdown",
   "id": "fcb4726a",
   "metadata": {},
   "source": [
    "Given a string s, find two disjoint palindromic subsequences of s such that the product of their lengths is maximized. The two subsequences are disjoint if they do not both pick a character at the same index.\n",
    "\n",
    "Return the maximum possible product of the lengths of the two palindromic subsequences.\n",
    "\n",
    "A subsequence is a string that can be derived from another string by deleting some or no characters without changing the order of the remaining characters. A string is palindromic if it reads the same forward and backward."
   ]
  },
  {
   "cell_type": "code",
   "execution_count": 2,
   "id": "0cf5b676",
   "metadata": {},
   "outputs": [],
   "source": [
    "class Solution:\n",
    "    def maxProduct(self, s: str) -> int:\n",
    "        n, pali = len(s), {} # bitmask : length\n",
    "        for mask in range(1, 1 << n):\n",
    "            subseq = \"\"\n",
    "            for i in range(n):\n",
    "                if mask & (1 << i):\n",
    "                    subseq += s[i]\n",
    "            if subseq == subseq[::-1]: # valid is palindromic\n",
    "                pali[mask] = len(subseq)\n",
    "        res = 0\n",
    "        for mask1, length1 in pali.items():\n",
    "            for mask2, length2 in pali.items():\n",
    "                if mask1 & mask2 == 0: \n",
    "                    res = max(res, length1 * length2)\n",
    "        return res"
   ]
  }
 ],
 "metadata": {
  "kernelspec": {
   "display_name": "Python 3 (ipykernel)",
   "language": "python",
   "name": "python3"
  },
  "language_info": {
   "codemirror_mode": {
    "name": "ipython",
    "version": 3
   },
   "file_extension": ".py",
   "mimetype": "text/x-python",
   "name": "python",
   "nbconvert_exporter": "python",
   "pygments_lexer": "ipython3",
   "version": "3.11.5"
  }
 },
 "nbformat": 4,
 "nbformat_minor": 5
}
