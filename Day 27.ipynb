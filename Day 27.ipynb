{
 "cells": [
  {
   "cell_type": "markdown",
   "id": "62c601c3",
   "metadata": {},
   "source": [
    "## Question 1"
   ]
  },
  {
   "cell_type": "markdown",
   "id": "bb784214",
   "metadata": {},
   "source": [
    "The DNA sequence is composed of a series of nucleotides abbreviated as 'A', 'C', 'G', and 'T'.\n",
    "\n",
    "1. For example, \"ACGAATTCCG\" is a DNA sequence.\n",
    "\n",
    "When studying DNA, it is useful to identify repeated sequences within the DNA.\n",
    "\n",
    "Given a string s that represents a DNA sequence, return all the 10-letter-long sequences (substrings) that occur more than once in a DNA molecule. You may return the answer in any order."
   ]
  },
  {
   "cell_type": "code",
   "execution_count": null,
   "id": "a4891483",
   "metadata": {},
   "outputs": [],
   "source": [
    "class Solution:\n",
    "    def findRepeatedDnaSequences(self, s: str) -> List[str]:\n",
    "        n = len(s)\n",
    "        cnt = defaultdict(int)\n",
    "        ans = []\n",
    "\n",
    "        for i in range(n - 9):\n",
    "            dna = s[i:i+10]\n",
    "            cnt[dna] += 1\n",
    "            if cnt[dna] == 2:\n",
    "                ans.append(dna)\n",
    "\n",
    "        return ans"
   ]
  },
  {
   "cell_type": "markdown",
   "id": "60d8f772",
   "metadata": {},
   "source": [
    "## Question 2"
   ]
  },
  {
   "cell_type": "markdown",
   "id": "9b18940f",
   "metadata": {},
   "source": [
    "Alice and Bob take turns playing a game, with Alice starting first.\n",
    "\n",
    "There are n stones in a pile. On each player's turn, they can remove a stone from the pile and receive points based on the stone's value. Alice and Bob may value the stones differently.\n",
    "\n",
    "You are given two integer arrays of length n, aliceValues and bobValues. Each aliceValues[i] and bobValues[i] represents how Alice and Bob, respectively, value the ith stone.\n",
    "\n",
    "The winner is the person with the most points after all the stones are chosen. If both players have the same amount of points, the game results in a draw. Both players will play optimally. Both players know the other's values.\n",
    "\n",
    "Determine the result of the game, and:\n",
    "\n",
    "1. If Alice wins, return 1.\n",
    "2. If Bob wins, return -1.\n",
    "3. If the game results in a draw, return 0."
   ]
  },
  {
   "cell_type": "code",
   "execution_count": null,
   "id": "5c700584",
   "metadata": {},
   "outputs": [],
   "source": [
    "class Solution:\n",
    "    def stoneGameVI(self, alice: List[int], bob: List[int]) -> int:\n",
    "        t=list(zip(alice,bob))\n",
    "        t=sorted(t,key=lambda x: sum(x),reverse=True)\n",
    "        al=sum([i[0] for i in t[::2]])\n",
    "        bb=sum([i[1] for i in t[1::2]])\n",
    "        if al>bb:\n",
    "            return 1\n",
    "        elif al<bb:\n",
    "            return -1\n",
    "        return 0"
   ]
  },
  {
   "cell_type": "markdown",
   "id": "a0d5bbbd",
   "metadata": {},
   "source": [
    "## Question 3"
   ]
  },
  {
   "cell_type": "markdown",
   "id": "a875b7ad",
   "metadata": {},
   "source": [
    "You are given an array of k linked-lists lists, each linked-list is sorted in ascending order.\n",
    "\n",
    "Merge all the linked-lists into one sorted linked-list and return it."
   ]
  },
  {
   "cell_type": "code",
   "execution_count": null,
   "id": "28f6b7ca",
   "metadata": {},
   "outputs": [],
   "source": [
    "# Definition for singly-linked list.\n",
    "# class ListNode:\n",
    "#     def __init__(self, val=0, next=None):\n",
    "#         self.val = val\n",
    "#         self.next = next\n",
    "class Solution:\n",
    "    def merge(self, left: ListNode, right: ListNode) -> ListNode:\n",
    "        dummy = ListNode(-1)\n",
    "        temp = dummy\n",
    "        while left and right:\n",
    "            if left.val < right.val:\n",
    "                temp.next = left\n",
    "                temp = temp.next\n",
    "                left = left.next\n",
    "            else:\n",
    "                temp.next = right\n",
    "                temp = temp.next\n",
    "                right = right.next\n",
    "        while left:\n",
    "            temp.next = left\n",
    "            temp = temp.next\n",
    "            left = left.next\n",
    "        while right:\n",
    "            temp.next = right\n",
    "            temp = temp.next\n",
    "            right = right.next\n",
    "        return dummy.next\n",
    "    \n",
    "    def mergeSort(self, lists: List[ListNode], start: int, end: int) -> ListNode:\n",
    "        if start == end:\n",
    "            return lists[start]\n",
    "        mid = start + (end - start) // 2\n",
    "        left = self.mergeSort(lists, start, mid)\n",
    "        right = self.mergeSort(lists, mid + 1, end)\n",
    "        return self.merge(left, right)\n",
    "    \n",
    "    def mergeKLists(self, lists: List[ListNode]) -> ListNode:\n",
    "        if not lists:\n",
    "            return None\n",
    "        return self.mergeSort(lists, 0, len(lists) - 1)"
   ]
  }
 ],
 "metadata": {
  "kernelspec": {
   "display_name": "Python 3 (ipykernel)",
   "language": "python",
   "name": "python3"
  },
  "language_info": {
   "codemirror_mode": {
    "name": "ipython",
    "version": 3
   },
   "file_extension": ".py",
   "mimetype": "text/x-python",
   "name": "python",
   "nbconvert_exporter": "python",
   "pygments_lexer": "ipython3",
   "version": "3.11.5"
  }
 },
 "nbformat": 4,
 "nbformat_minor": 5
}
