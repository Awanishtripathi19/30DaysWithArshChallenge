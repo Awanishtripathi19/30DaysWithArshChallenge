{
 "cells": [
  {
   "cell_type": "markdown",
   "id": "86334e33",
   "metadata": {},
   "source": [
    "## Question 1"
   ]
  },
  {
   "cell_type": "markdown",
   "id": "268966d1",
   "metadata": {},
   "source": [
    "A city's skyline is the outer contour of the silhouette formed by all the buildings in that city when viewed from a distance. Given the locations and heights of all the buildings, return the skyline formed by these buildings collectively.\n",
    "\n",
    "The geometric information of each building is given in the array buildings where buildings[i] = [lefti, righti, heighti]:\n",
    "\n",
    "1. lefti is the x coordinate of the left edge of the ith building.\n",
    "2. righti is the x coordinate of the right edge of the ith building.\n",
    "3. heighti is the height of the ith building.\n",
    "\n",
    "You may assume all buildings are perfect rectangles grounded on an absolutely flat surface at height 0.\n",
    "\n",
    "The skyline should be represented as a list of \"key points\" sorted by their x-coordinate in the form [[x1,y1],[x2,y2],...]. Each key point is the left endpoint of some horizontal segment in the skyline except the last point in the list, which always has a y-coordinate 0 and is used to mark the skyline's termination where the rightmost building ends. Any ground between the leftmost and rightmost buildings should be part of the skyline's contour.\n",
    "\n",
    "Note: There must be no consecutive horizontal lines of equal height in the output skyline. For instance, [...,[2 3],[4 5],[7 5],[11 5],[12 7],...] is not acceptable; the three lines of height 5 should be merged into one in the final output as such: [...,[2 3],[4 5],[12 7],...]"
   ]
  },
  {
   "cell_type": "code",
   "execution_count": null,
   "id": "e5503753",
   "metadata": {},
   "outputs": [],
   "source": [
    "from sortedcontainers import SortedList\n",
    "class Solution:\n",
    "    def getSkyline(self, buildings: List[List[int]]) -> List[List[int]]:\n",
    "        if len(buildings) == 0: \n",
    "            return []\n",
    "        \n",
    "        buildings.sort(key=lambda v: v[2])\n",
    "        pos, height = [0], [0]\n",
    "        for left, right, h in buildings: \n",
    "            i = bisect_left(pos, left)\n",
    "            j = bisect_right(pos, right)\n",
    "            height[i:j] = [h, height[j-1]]\n",
    "            pos[i:j] = [left, right]\n",
    "        print(height, pos)\n",
    "        res = []\n",
    "        prev = 0\n",
    "        for v, h in zip(pos, height): \n",
    "            if h != prev:\n",
    "                res.append([v,h]) \n",
    "                prev = h\n",
    "                \n",
    "        return res"
   ]
  },
  {
   "cell_type": "markdown",
   "id": "6587d1fd",
   "metadata": {},
   "source": [
    "## Question 2"
   ]
  },
  {
   "cell_type": "markdown",
   "id": "d353ffa8",
   "metadata": {},
   "source": [
    "You are given an array start where start = [startX, startY] represents your initial position (startX, startY) in a 2D space. You are also given the array target where target = [targetX, targetY] represents your target position (targetX, targetY).\n",
    "\n",
    "The cost of going from a position (x1, y1) to any other position in the space (x2, y2) is |x2 - x1| + |y2 - y1|.\n",
    "\n",
    "There are also some special roads. You are given a 2D array specialRoads where specialRoads[i] = [x1i, y1i, x2i, y2i, costi] indicates that the ith special road can take you from (x1i, y1i) to (x2i, y2i) with a cost equal to costi. You can use each special road any number of times.\n",
    "\n",
    "Return the minimum cost required to go from (startX, startY) to (targetX, targetY)."
   ]
  },
  {
   "cell_type": "code",
   "execution_count": null,
   "id": "652fa8c0",
   "metadata": {},
   "outputs": [],
   "source": [
    "class Solution:\n",
    "    def minimumCost(self, start: List[int], target: List[int], specialRoads: List[List[int]]) -> int:\n",
    "        filteredRoads = []\n",
    "        for road in specialRoads:\n",
    "            a, b, c, d, cost = road\n",
    "            if cost < abs(a - c) + abs(b - d):\n",
    "                filteredRoads.append([a, b, c, d, cost])\n",
    "        dist = {(start[0], start[1]): 0}\n",
    "        heap = [(0, start[0], start[1])]\n",
    "        while heap:\n",
    "            currdist, x, y = heapq.heappop(heap)\n",
    "            for road in filteredRoads:\n",
    "                a, b, c, d, cost = road\n",
    "                if dist.get((c, d), float('inf')) > currdist + abs(x - a) + abs(y - b) + cost:\n",
    "                    dist[(c, d)] = currdist + abs(x - a) + abs(y - b) + cost\n",
    "                    heapq.heappush(heap, (dist[(c, d)], c, d))\n",
    "        res = abs(target[0] - start[0]) + abs(target[1] - start[1])\n",
    "        for road in filteredRoads:\n",
    "            a, b, c, d, cost = road\n",
    "            res = min(res, dist.get((c, d), float('inf')) + abs(target[0] - c) + abs(target[1] - d))\n",
    "        return res"
   ]
  },
  {
   "cell_type": "markdown",
   "id": "3b6a0751",
   "metadata": {},
   "source": [
    "## Question 3"
   ]
  },
  {
   "cell_type": "markdown",
   "id": "fb688455",
   "metadata": {},
   "source": [
    "Given a string s and a string array dictionary, return the longest string in the dictionary that can be formed by deleting some of the given string characters. If there is more than one possible result, return the longest word with the smallest lexicographical order. If there is no possible result, return the empty string.\n"
   ]
  },
  {
   "cell_type": "code",
   "execution_count": null,
   "id": "b39e29f4",
   "metadata": {},
   "outputs": [],
   "source": [
    "class Solution:\n",
    "    def findLongestWord(self, s: str, dictionary: List[str]) -> str:\n",
    "        # Sort the dictionary by length and lexicographically\n",
    "        dictionary.sort(key=lambda x: (-len(x), x))\n",
    "        \n",
    "        # Traverse through the dictionary\n",
    "        for word in dictionary:\n",
    "            i = 0\n",
    "            # Traverse through the string s\n",
    "            for char in s:\n",
    "                if i < len(word) and char == word[i]:\n",
    "                    i += 1\n",
    "                    # If we have found all the characters in the word, break the loop\n",
    "                    if i == len(word):\n",
    "                        break\n",
    "            # If we have found all the characters in the word, return the word\n",
    "            if i == len(word):\n",
    "                return word\n",
    "        return \"\""
   ]
  }
 ],
 "metadata": {
  "kernelspec": {
   "display_name": "Python 3 (ipykernel)",
   "language": "python",
   "name": "python3"
  },
  "language_info": {
   "codemirror_mode": {
    "name": "ipython",
    "version": 3
   },
   "file_extension": ".py",
   "mimetype": "text/x-python",
   "name": "python",
   "nbconvert_exporter": "python",
   "pygments_lexer": "ipython3",
   "version": "3.11.5"
  }
 },
 "nbformat": 4,
 "nbformat_minor": 5
}
