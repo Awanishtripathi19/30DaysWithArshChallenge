{
 "cells": [
  {
   "cell_type": "markdown",
   "id": "44d29658",
   "metadata": {},
   "source": [
    "## Question 1"
   ]
  },
  {
   "cell_type": "markdown",
   "id": "84f7d97a",
   "metadata": {},
   "source": [
    "You are given two strings s and t of the same length and an integer maxCost.\n",
    "\n",
    "You want to change s to t. Changing the ith character of s to ith character of t costs |s[i] - t[i]| (i.e., the absolute difference between the ASCII values of the characters).\n",
    "\n",
    "Return the maximum length of a substring of s that can be changed to be the same as the corresponding substring of t with a cost less than or equal to maxCost. If there is no substring from s that can be changed to its corresponding substring from t, return 0."
   ]
  },
  {
   "cell_type": "code",
   "execution_count": null,
   "id": "730ca0c8",
   "metadata": {},
   "outputs": [],
   "source": [
    "class Solution:\n",
    "    def equalSubstring(self, s: str, t: str, maxCost: int) -> int:\n",
    "        cost=0\n",
    "        l=0\n",
    "        ans=0\n",
    "        for r in range(len(s)):\n",
    "            \n",
    "            cost+= abs(ord(s[r])-ord(t[r]))\n",
    "            while cost > maxCost:\n",
    "                cost -= abs(ord(s[l]) - ord(t[l]))\n",
    "                l+=1\n",
    "            ans=max(ans,  r-l+1)\n",
    "        return ans"
   ]
  },
  {
   "cell_type": "markdown",
   "id": "a8361c80",
   "metadata": {},
   "source": [
    "## Question 2"
   ]
  },
  {
   "cell_type": "markdown",
   "id": "170cafd7",
   "metadata": {},
   "source": [
    "There are n persons on a social media website. You are given an integer array ages where ages[i] is the age of the ith person.\n",
    "\n",
    "A Person x will not send a friend request to a person y (x != y) if any of the following conditions is true:\n",
    "\n",
    "1. age[y] <= 0.5 * age[x] + 7\n",
    "2. age[y] > age[x]\n",
    "3. age[y] > 100 && age[x] < 100\n",
    "\n",
    "Otherwise, x will send a friend request to y.\n",
    "\n",
    "Note that if x sends a request to y, y will not necessarily send a request to x. Also, a person will not send a friend request to themself.\n",
    "\n",
    "Return the total number of friend requests made."
   ]
  },
  {
   "cell_type": "code",
   "execution_count": null,
   "id": "4cc80aa9",
   "metadata": {},
   "outputs": [],
   "source": [
    "class Solution:\n",
    "    def numFriendRequests(self, ages: List[int]) -> int:\n",
    "        ages.sort()                                   # sort the `ages`\n",
    "        ans = 0\n",
    "        n = len(ages)\n",
    "        for idx, age in enumerate(ages):              # for each age\n",
    "            lb = age                                  # lower bound\n",
    "            ub = (age - 7) * 2                        # upper bound\n",
    "            i = bisect.bisect_left(ages, lb)          # binary search lower bound\n",
    "            j = bisect.bisect_left(ages, ub)          # binary search upper bound\n",
    "            if j - i <= 0: continue\n",
    "            ans += j - i                              # count number of potential friends\n",
    "            if lb <= age < ub:                        # ignore itself\n",
    "                ans -= 1\n",
    "        return ans"
   ]
  },
  {
   "cell_type": "markdown",
   "id": "8434bc1b",
   "metadata": {},
   "source": [
    "## Question 3"
   ]
  },
  {
   "cell_type": "markdown",
   "id": "4dd34338",
   "metadata": {},
   "source": [
    "Given two integer arrays nums1 and nums2, return the maximum length of a subarray that appears in both arrays."
   ]
  },
  {
   "cell_type": "code",
   "execution_count": null,
   "id": "5a37d2af",
   "metadata": {},
   "outputs": [],
   "source": [
    "class Solution:\n",
    "    def findLength(self, nums1: List[int], nums2: List[int]) -> int:\n",
    "        N, M = len(nums1), len(nums2)\n",
    "        \n",
    "        def ok(k):\n",
    "            # the idea is to use binary search to find the length `k`\n",
    "            # then we check if there is any nums1[i : i + k] == nums2[i : i + k]\n",
    "            s = set(tuple(nums1[i : i + k]) for i in range(N - k + 1))\n",
    "            return any(tuple(nums2[i : i + k]) in s for i in range(M - k + 1))\n",
    "        \n",
    "        # init possible boundary\n",
    "        l, r = 0, min(N, M)\n",
    "        while l < r:\n",
    "            # get the middle one\n",
    "            # for even number of elements, take the upper one\n",
    "            m = (l + r + 1) // 2\n",
    "            if ok(m): \n",
    "                # include m\n",
    "                l = m\n",
    "            else:\n",
    "                # exclude m\n",
    "                r = m - 1\n",
    "        return l"
   ]
  }
 ],
 "metadata": {
  "kernelspec": {
   "display_name": "Python 3 (ipykernel)",
   "language": "python",
   "name": "python3"
  },
  "language_info": {
   "codemirror_mode": {
    "name": "ipython",
    "version": 3
   },
   "file_extension": ".py",
   "mimetype": "text/x-python",
   "name": "python",
   "nbconvert_exporter": "python",
   "pygments_lexer": "ipython3",
   "version": "3.11.5"
  }
 },
 "nbformat": 4,
 "nbformat_minor": 5
}
