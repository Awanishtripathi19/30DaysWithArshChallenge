{
 "cells": [
  {
   "cell_type": "markdown",
   "id": "10a23e00",
   "metadata": {},
   "source": [
    "## Question 1"
   ]
  },
  {
   "cell_type": "markdown",
   "id": "2253477e",
   "metadata": {},
   "source": [
    "Given an unsorted array Arr of size N of positive integers. One number 'A' from set {1, 2,....,N} is missing and one number 'B' occurs twice in array. Find these two numbers."
   ]
  },
  {
   "cell_type": "code",
   "execution_count": null,
   "id": "abcd9da2",
   "metadata": {},
   "outputs": [],
   "source": [
    "class Solution:\n",
    "    def findTwoElement( self,arr, n): \n",
    "        # code here\n",
    "        \n",
    "        missing = self.findmissing(arr,n)\n",
    "        repeating = self.findrepeating(arr,n)\n",
    "        return (repeating,missing)\n",
    "        \n",
    "    def findmissing(self,arr,n):\n",
    "        arr.sort()\n",
    "        numberSet=set(i for i in range(1,n+1))\n",
    "        for i in range(n):\n",
    "            if arr[i] in numberSet:\n",
    "                numberSet.remove(arr[i])\n",
    "        for val in numberSet:\n",
    "            return val\n",
    "        \n",
    "    \n",
    "    def findrepeating(self,arr,n):\n",
    "        arr.sort()\n",
    "        for i in range(1,n):\n",
    "            if arr[i]==arr[i-1]:\n",
    "                return arr[i]\n"
   ]
  },
  {
   "cell_type": "markdown",
   "id": "22bb497d",
   "metadata": {},
   "source": [
    "## Question 2"
   ]
  },
  {
   "cell_type": "markdown",
   "id": "38b8a1e5",
   "metadata": {},
   "source": [
    "For a stream of integers, implement a data structure that checks if the last k integers parsed in the stream are equal to value.\n",
    "\n",
    "Implement the DataStream class:\n",
    "\n",
    "1. DataStream(int value, int k) Initializes the object with an empty integer stream and the two integers value and k.\n",
    "2. boolean consec(int num) Adds num to the stream of integers. Returns true if the last k integers are equal to value, and false otherwise. If there are less than k integers, the condition does not hold true, so returns false."
   ]
  },
  {
   "cell_type": "code",
   "execution_count": null,
   "id": "a22e63c6",
   "metadata": {},
   "outputs": [],
   "source": [
    "class DataStream:\n",
    "\n",
    "    def __init__(self, value: int, k: int):\n",
    "        self.value = value\n",
    "        self.k = k\n",
    "        self.currIdx = -1\n",
    "        self.lastIdx = -1\n",
    "\n",
    "    def consec(self, num: int) -> bool:\n",
    "        self.currIdx += 1\n",
    "        if num != self.value:\n",
    "            self.lastIdx = self.currIdx\n",
    "        return self.currIdx - self.lastIdx >= self.k"
   ]
  },
  {
   "cell_type": "markdown",
   "id": "1b8a9b1c",
   "metadata": {},
   "source": [
    "## Question 3"
   ]
  },
  {
   "cell_type": "markdown",
   "id": "fad75d19",
   "metadata": {},
   "source": [
    "Given a pattern containing only I's and D's. I for increasing and D for decreasing. Devise an algorithm to print the minimum number following that pattern. Digits from 1-9 and digits can't repeat."
   ]
  },
  {
   "cell_type": "code",
   "execution_count": null,
   "id": "c408a597",
   "metadata": {},
   "outputs": [],
   "source": [
    "class Solution:\n",
    "    def printMinNumberForPattern(ob,s):\n",
    "        # code here \n",
    "        n, current, i = len(s), 1, 0\n",
    "        ans = ['1']\n",
    "        while i < n:\n",
    "            if s[i] == 'D':\n",
    "                j = i\n",
    "                while j < n and s[j] == 'D':\n",
    "                    j += 1\n",
    "                no_of_D = j - i\n",
    "                current += no_of_D\n",
    "                ans[i] = str(current)\n",
    "                count = current\n",
    "                while i != j:\n",
    "                    count -= 1\n",
    "                    ans.append(str(count))\n",
    "                    i += 1\n",
    "            else:\n",
    "                current += 1\n",
    "                ans.append(str(current))\n",
    "                i += 1\n",
    "        ans=\"\".join(ans)\n",
    "        return ans"
   ]
  }
 ],
 "metadata": {
  "kernelspec": {
   "display_name": "Python 3 (ipykernel)",
   "language": "python",
   "name": "python3"
  },
  "language_info": {
   "codemirror_mode": {
    "name": "ipython",
    "version": 3
   },
   "file_extension": ".py",
   "mimetype": "text/x-python",
   "name": "python",
   "nbconvert_exporter": "python",
   "pygments_lexer": "ipython3",
   "version": "3.11.5"
  }
 },
 "nbformat": 4,
 "nbformat_minor": 5
}
