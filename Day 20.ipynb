{
 "cells": [
  {
   "cell_type": "markdown",
   "id": "b0ba4502",
   "metadata": {},
   "source": [
    "## Question 1"
   ]
  },
  {
   "cell_type": "markdown",
   "id": "ea47d8d5",
   "metadata": {},
   "source": [
    "You are given an array trees where trees[i] = [xi, yi] represents the location of a tree in the garden.\n",
    "\n",
    "Fence the entire garden using the minimum length of rope, as it is expensive. The garden is well-fenced only if all the trees are enclosed.\n",
    "\n",
    "Return the coordinates of trees that are exactly located on the fence perimeter. You may return the answer in any order."
   ]
  },
  {
   "cell_type": "code",
   "execution_count": null,
   "id": "1f3bb080",
   "metadata": {},
   "outputs": [],
   "source": [
    "class Solution:\n",
    "    def outerTrees(self, points: List[List[int]]) -> List[List[int]]:\n",
    "        \"\"\"\n",
    "        Use Monotone Chain algorithm.\n",
    "        \"\"\"\n",
    "        def is_clockwise(\n",
    "                p0: List[int], p1: List[int], p2: List[int]) -> bool:\n",
    "            \"\"\"\n",
    "            Determine the orientation the slope p0p2 is on the clockwise\n",
    "            orientation of the slope p0p1.\n",
    "            \"\"\"\n",
    "            return (p1[1] - p0[1]) * (p2[0] - p0[0]) > \\\n",
    "                (p2[1] - p0[1]) * (p1[0] - p0[0])\n",
    "\n",
    "        sortedPoints = sorted(points)\n",
    "\n",
    "        # Scan from left to right to generate the lower part of the hull.\n",
    "        hull = []\n",
    "        for p in sortedPoints:\n",
    "            while len(hull) > 1 and is_clockwise(hull[-2], hull[-1], p):\n",
    "                hull.pop()\n",
    "\n",
    "            hull.append(p)\n",
    "\n",
    "        if len(hull) == len(points):  # All the points are on the perimeter now.\n",
    "            return hull\n",
    "\n",
    "        # Scan from right to left to generate the higher part of the hull.\n",
    "        # Remove the last point first as it will be scanned again.\n",
    "        hull.pop()\n",
    "        for p in reversed(sortedPoints):\n",
    "            while len(hull) > 1 and is_clockwise(hull[-2], hull[-1], p):\n",
    "                hull.pop()\n",
    "\n",
    "            hull.append(p)\n",
    "\n",
    "        # Pop the first point as it is already added to hull when processing\n",
    "        # the lower part.\n",
    "        hull.pop()\n",
    "\n",
    "        return hull"
   ]
  },
  {
   "cell_type": "markdown",
   "id": "a57ea28d",
   "metadata": {},
   "source": [
    "## Question 2"
   ]
  },
  {
   "cell_type": "markdown",
   "id": "660e0934",
   "metadata": {},
   "source": [
    "You are given two strings s and t of the same length and an integer maxCost.\n",
    "\n",
    "You want to change s to t. Changing the ith character of s to ith character of t costs |s[i] - t[i]| (i.e., the absolute difference between the ASCII values of the characters).\n",
    "\n",
    "Return the maximum length of a substring of s that can be changed to be the same as the corresponding substring of t with a cost less than or equal to maxCost. If there is no substring from s that can be changed to its corresponding substring from t, return 0."
   ]
  },
  {
   "cell_type": "code",
   "execution_count": null,
   "id": "6ad6eb9e",
   "metadata": {},
   "outputs": [],
   "source": [
    "class Solution:\n",
    "    def equalSubstring(self, s: str, t: str, maxCost: int) -> int:\n",
    "        cost=0\n",
    "        l=0\n",
    "        ans=0\n",
    "        for r in range(len(s)):\n",
    "            \n",
    "            cost+= abs(ord(s[r])-ord(t[r]))\n",
    "            while cost > maxCost:\n",
    "                cost -= abs(ord(s[l]) - ord(t[l]))\n",
    "                l+=1\n",
    "            ans=max(ans,  r-l+1)\n",
    "        return ans"
   ]
  },
  {
   "cell_type": "markdown",
   "id": "82007eb3",
   "metadata": {},
   "source": [
    "## Question 3"
   ]
  },
  {
   "cell_type": "markdown",
   "id": "e8b066ba",
   "metadata": {},
   "source": [
    "We have a wooden plank of the length n units. Some ants are walking on the plank, each ant moves with a speed of 1 unit per second. Some of the ants move to the left, the other move to the right.\n",
    "\n",
    "When two ants moving in two different directions meet at some point, they change their directions and continue moving again. Assume changing directions does not take any additional time.\n",
    "\n",
    "When an ant reaches one end of the plank at a time t, it falls out of the plank immediately.\n",
    "\n",
    "Given an integer n and two integer arrays left and right, the positions of the ants moving to the left and the right, return the moment when the last ant(s) fall out of the plank."
   ]
  },
  {
   "cell_type": "code",
   "execution_count": null,
   "id": "e6e81505",
   "metadata": {},
   "outputs": [],
   "source": [
    "class Solution:\n",
    "    def getLastMoment(self, n: int, left: List[int], right: List[int]) -> int:\n",
    "        # Initialize a variable to keep track of the maximum time\n",
    "        time = 0\n",
    "\n",
    "        # Iterate through the positions of ants moving to the left\n",
    "        for pos in left:\n",
    "            # Update the maximum time if the current left-moving ant's position is greater\n",
    "            # than the previously recorded maximum time\n",
    "            time = max(time, pos)\n",
    "\n",
    "        # Iterate through the positions of ants moving to the right\n",
    "        for pos in right:\n",
    "            # Update the maximum time if the current right-moving ant's position (relative to\n",
    "            # the right end of the plank) is greater than the previously recorded maximum time\n",
    "            time = max(time, n - pos)\n",
    "\n",
    "        # The final 'time' variable contains the maximum time, which is when the last ant(s)\n",
    "        # fall off the plank, so return it as the result.\n",
    "        return time"
   ]
  }
 ],
 "metadata": {
  "kernelspec": {
   "display_name": "Python 3 (ipykernel)",
   "language": "python",
   "name": "python3"
  },
  "language_info": {
   "codemirror_mode": {
    "name": "ipython",
    "version": 3
   },
   "file_extension": ".py",
   "mimetype": "text/x-python",
   "name": "python",
   "nbconvert_exporter": "python",
   "pygments_lexer": "ipython3",
   "version": "3.11.5"
  }
 },
 "nbformat": 4,
 "nbformat_minor": 5
}
