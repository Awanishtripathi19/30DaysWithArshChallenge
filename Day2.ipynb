{
 "cells": [
  {
   "cell_type": "markdown",
   "id": "dea73acc",
   "metadata": {},
   "source": [
    "## Question 1"
   ]
  },
  {
   "cell_type": "markdown",
   "id": "efa6f7c3",
   "metadata": {},
   "source": [
    "Find all valid combinations of k numbers that sum up to n such that the following conditions are true:\n",
    "\n",
    "1. Only numbers 1 through 9 are used.\n",
    "2. Each number is used at most once.\n",
    "\n",
    "Return a list of all possible valid combinations. The list must not contain the same combination twice, and the combinations may be returned in any order."
   ]
  },
  {
   "cell_type": "code",
   "execution_count": null,
   "id": "48907952",
   "metadata": {},
   "outputs": [],
   "source": [
    "class Solution:\n",
    "    def combinationSum3(self, k: int, n: int) -> List[List[int]]:\n",
    "        result=[]\n",
    "        start=1\n",
    "        def backtrack(i,n,combination):\n",
    "            if len(combination)==k:\n",
    "                if(n==0):\n",
    "                    result.append(combination.copy())\n",
    "                    return\n",
    "            for j in range(i,10):\n",
    "                combination.append(j)\n",
    "                backtrack(j+1,n-j,combination)\n",
    "                combination.pop()\n",
    "        backtrack(start,n,[])\n",
    "        return result"
   ]
  },
  {
   "cell_type": "markdown",
   "id": "1a4d2f9e",
   "metadata": {},
   "source": [
    "## Question 2"
   ]
  },
  {
   "cell_type": "markdown",
   "id": "10102b1f",
   "metadata": {},
   "source": [
    "There is an m x n binary grid matrix with all the values set 0 initially. Design an algorithm to randomly pick an index (i, j) where matrix[i][j] == 0 and flips it to 1. All the indices (i, j) where matrix[i][j] == 0 should be equally likely to be returned.\n",
    "\n",
    "Optimize your algorithm to minimize the number of calls made to the built-in random function of your language and optimize the time and space complexity.\n",
    "\n",
    "Implement the Solution class:\n",
    "\n",
    "1. Solution(int m, int n) Initializes the object with the size of the binary matrix m and n.\n",
    "2. int[] flip() Returns a random index [i, j] of the matrix where matrix[i][j] == 0 and flips it to 1.\n",
    "3. void reset() Resets all the values of the matrix to be 0."
   ]
  },
  {
   "cell_type": "code",
   "execution_count": null,
   "id": "b719f820",
   "metadata": {},
   "outputs": [],
   "source": [
    "class Solution:\n",
    "\n",
    "    def __init__(self, m: int, n: int):\n",
    "        self.rows=m\n",
    "        self.cols=n\n",
    "        self.length=m*n\n",
    "        self.limit=self.length-1\n",
    "        self.used=set()\n",
    "\n",
    "    def flip(self) -> List[int]:\n",
    "        val=randint(0,self.limit)\n",
    "        while val in self.used:\n",
    "            val+=1\n",
    "            if val==self.length:\n",
    "                val=0\n",
    "        self.used.add(val)\n",
    "        return list(divmod(val,self.cols))\n",
    "\n",
    "    def reset(self) -> None:\n",
    "        self.used=set()"
   ]
  },
  {
   "cell_type": "markdown",
   "id": "4d4378dd",
   "metadata": {},
   "source": [
    "## Question 3"
   ]
  },
  {
   "cell_type": "markdown",
   "id": "6a4b2cc5",
   "metadata": {},
   "source": [
    "Given a string containing digits from 2-9 inclusive, return all possible letter combinations that the number could represent. Return the answer in any order.\n",
    "\n",
    "A mapping of digits to letters (just like on the telephone buttons) is given below. Note that 1 does not map to any letters."
   ]
  },
  {
   "cell_type": "code",
   "execution_count": null,
   "id": "bab6f7dc",
   "metadata": {},
   "outputs": [],
   "source": [
    "class Solution:\n",
    "    def letterCombinations(self, digits: str) -> List[str]:\n",
    "        numtochar = {\"2\":\"abc\",\"3\":\"def\",\"4\":\"ghi\",\"5\":\"jkl\",\"6\":\"mno\",\"7\":\"pqrs\",\"8\":\"tuv\",\"9\":\"wxyz\",}\n",
    "        res=[]\n",
    "        def backtrack(i,string):\n",
    "            if i>=len(digits):\n",
    "                res.append(string)\n",
    "                return\n",
    "            for char in numtochar[digits[i]]:\n",
    "                backtrack(i+1,string+char)\n",
    "        if digits:\n",
    "            backtrack(0,\"\")\n",
    "        return res"
   ]
  }
 ],
 "metadata": {
  "kernelspec": {
   "display_name": "Python 3 (ipykernel)",
   "language": "python",
   "name": "python3"
  },
  "language_info": {
   "codemirror_mode": {
    "name": "ipython",
    "version": 3
   },
   "file_extension": ".py",
   "mimetype": "text/x-python",
   "name": "python",
   "nbconvert_exporter": "python",
   "pygments_lexer": "ipython3",
   "version": "3.11.5"
  }
 },
 "nbformat": 4,
 "nbformat_minor": 5
}
