{
 "cells": [
  {
   "cell_type": "markdown",
   "id": "f2bff1e1",
   "metadata": {},
   "source": [
    "## Question 1"
   ]
  },
  {
   "cell_type": "markdown",
   "id": "a887127a",
   "metadata": {},
   "source": [
    "You are given two 0-indexed arrays of strings startWords and targetWords. Each string consists of lowercase English letters only.\n",
    "\n",
    "For each string in targetWords, check if it is possible to choose a string from startWords and perform a conversion operation on it to be equal to that from targetWords.\n",
    "\n",
    "The conversion operation is described in the following two steps:\n",
    "\n",
    "Append any lowercase letter that is not present in the string to its end.\n",
    "For example, if the string is \"abc\", the letters 'd', 'e', or 'y' can be added to it, but not 'a'. If 'd' is added, the resulting string will be \"abcd\".\n",
    "\n",
    "Rearrange the letters of the new string in any arbitrary order.\n",
    "For example, \"abcd\" can be rearranged to \"acbd\", \"bacd\", \"cbda\", and so on. Note that it can also be rearranged to \"abcd\" itself.\n",
    "Return the number of strings in targetWords that can be obtained by performing the operations on any string of startWords.\n",
    "\n",
    "Note that you will only be verifying if the string in targetWords can be obtained from a string in startWords by performing the operations. The strings in startWords do not actually change during this process.\n",
    "\n",
    " "
   ]
  },
  {
   "cell_type": "code",
   "execution_count": null,
   "id": "cc482102",
   "metadata": {},
   "outputs": [],
   "source": [
    "class Solution:\n",
    "    def wordCount(self, startWords: List[str], targetWords: List[str]) -> int:\n",
    "        seen = set()\n",
    "        for word in startWords: \n",
    "            m = 0\n",
    "            for ch in word: m ^= 1 << ord(ch)-97\n",
    "            seen.add(m)\n",
    "            \n",
    "        ans = 0 \n",
    "        for word in targetWords: \n",
    "            m = 0 \n",
    "            for ch in word: m ^= 1 << ord(ch)-97\n",
    "            for ch in word: \n",
    "                if m ^ (1 << ord(ch)-97) in seen: \n",
    "                    ans += 1\n",
    "                    break \n",
    "        return ans "
   ]
  },
  {
   "cell_type": "markdown",
   "id": "04f14b8e",
   "metadata": {},
   "source": [
    "## Question 2"
   ]
  },
  {
   "cell_type": "markdown",
   "id": "41b79f9b",
   "metadata": {},
   "source": [
    "There are n cities numbered from 0 to n-1. Given the array edges where edges[i] = [fromi, toi, weighti] represents a bidirectional and weighted edge between cities fromi and toi, and given the integer distanceThreshold.\n",
    "\n",
    "Return the city with the smallest number of cities that are reachable through some path and whose distance is at most distanceThreshold, If there are multiple such cities, return the city with the greatest number.\n",
    "\n",
    "Notice that the distance of a path connecting cities i and j is equal to the sum of the edges' weights along that path."
   ]
  },
  {
   "cell_type": "code",
   "execution_count": null,
   "id": "73815d2d",
   "metadata": {},
   "outputs": [],
   "source": [
    "class Solution:\n",
    "    def findTheCity(self, n: int, edges: List[List[int]], distanceThreshold: int) -> int:\n",
    "        cost=[[float('inf') if i!=j else 0 for j in range(n)] for i in range(n)]\n",
    "        for u,v,d in edges:\n",
    "            cost[u][v]=d\n",
    "            cost[v][u]=d\n",
    "        for via in range(n):\n",
    "            for i in range(n):\n",
    "                for j in range(n):\n",
    "                    cost[i][j]=min(cost[i][j],cost[i][via]+cost[via][j])\n",
    "        d={}\n",
    "        for i in range(n):\n",
    "            c=0\n",
    "            for j in range(n):\n",
    "                if cost[i][j]<=distanceThreshold and i!=j:\n",
    "                    c+=1\n",
    "            d[i]=c\n",
    "        m1=min(d.values())\n",
    "        m2=0\n",
    "        for k,v in d.items():\n",
    "            if m1==v:\n",
    "                m2=max(m2,k)\n",
    "        return m2"
   ]
  },
  {
   "cell_type": "markdown",
   "id": "37ef41cb",
   "metadata": {},
   "source": [
    "## Question 3"
   ]
  },
  {
   "cell_type": "markdown",
   "id": "bc001d90",
   "metadata": {},
   "source": [
    "You are given a positive integer p. Consider an array nums (1-indexed) that consists of the integers in the inclusive range [1, 2p - 1] in their binary representations. You are allowed to do the following operation any number of times:\n",
    "\n",
    "1. Choose two elements x and y from nums.\n",
    "2. Choose a bit in x and swap it with its corresponding bit in y. Corresponding bit refers to the bit that is in the same position in the other integer.\n",
    "\n",
    "For example, if x = 1101 and y = 0011, after swapping the 2nd bit from the right, we have x = 1111 and y = 0001.\n",
    "\n",
    "Find the minimum non-zero product of nums after performing the above operation any number of times. Return this product modulo 109 + 7.\n",
    "\n",
    "Note: The answer should be the minimum product before the modulo operation is done."
   ]
  },
  {
   "cell_type": "code",
   "execution_count": null,
   "id": "9b7c9235",
   "metadata": {},
   "outputs": [],
   "source": [
    "class Solution:\n",
    "    def minNonZeroProduct(self, p: int) -> int:\n",
    "        return (pow(2**p-2, (2**p-2)//2, 1000000007)*(2**p-1))%1000000007"
   ]
  }
 ],
 "metadata": {
  "kernelspec": {
   "display_name": "Python 3 (ipykernel)",
   "language": "python",
   "name": "python3"
  },
  "language_info": {
   "codemirror_mode": {
    "name": "ipython",
    "version": 3
   },
   "file_extension": ".py",
   "mimetype": "text/x-python",
   "name": "python",
   "nbconvert_exporter": "python",
   "pygments_lexer": "ipython3",
   "version": "3.11.5"
  }
 },
 "nbformat": 4,
 "nbformat_minor": 5
}
