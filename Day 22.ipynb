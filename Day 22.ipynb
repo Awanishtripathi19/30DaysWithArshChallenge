{
 "cells": [
  {
   "cell_type": "markdown",
   "id": "78092a8e",
   "metadata": {},
   "source": [
    "## Question 1"
   ]
  },
  {
   "cell_type": "markdown",
   "id": "c3980029",
   "metadata": {},
   "source": [
    "There is a grid with n + 2 horizontal bars and m + 2 vertical bars, and initially containing 1 x 1 unit cells.\n",
    "\n",
    "The bars are 1-indexed.\n",
    "\n",
    "You are given the two integers, n and m.\n",
    "\n",
    "You are also given two integer arrays: hBars and vBars.\n",
    "\n",
    "1. hBars contains distinct horizontal bars in the range [2, n + 1].\n",
    "2. vBars contains distinct vertical bars in the range [2, m + 1].\n",
    "\n",
    "You are allowed to remove bars that satisfy any of the following conditions:\n",
    "\n",
    "1. If it is a horizontal bar, it must correspond to a value in hBars.\n",
    "2. If it is a vertical bar, it must correspond to a value in vBars.\n",
    "\n",
    "Return an integer denoting the maximum area of a square-shaped hole in the grid after removing some bars (possibly none)."
   ]
  },
  {
   "cell_type": "code",
   "execution_count": null,
   "id": "75f9b452",
   "metadata": {},
   "outputs": [],
   "source": [
    "class Solution:\n",
    "    def maximizeSquareHoleArea(self, n: int, m: int, hBars: List[int], vBars: List[int]) -> int:\n",
    "        def findLongestConsecutiveElements(numsSet):\n",
    "            res = 1\n",
    "            for num in numsSet:\n",
    "                count = 1\n",
    "                current = num\n",
    "                while current+1 in numsSet:\n",
    "                    current += 1\n",
    "                    count += 1\n",
    "                res = max(res, count)\n",
    "            return res\n",
    "            \n",
    "        res = 1\n",
    "        if len(hBars) == 0 or len(vBars) == 0: return 1\n",
    "        hSet, vSet = set(hBars), set(vBars)\n",
    "        maxHBars, maxVBars = findLongestConsecutiveElements(hSet), findLongestConsecutiveElements(vSet)\n",
    "        return (min(maxHBars, maxVBars) + 1) ** 2"
   ]
  },
  {
   "cell_type": "markdown",
   "id": "e4737eac",
   "metadata": {},
   "source": [
    "## Question 2"
   ]
  },
  {
   "cell_type": "markdown",
   "id": "49678ed8",
   "metadata": {},
   "source": [
    "Design a data structure that follows the constraints of a Least Recently Used (LRU) cache.\n",
    "\n",
    "Implement the LRUCache class:\n",
    "\n",
    "1. LRUCache(int capacity) Initialize the LRU cache with positive size capacity.\n",
    "2. int get(int key) Return the value of the key if the key exists, otherwise return -1.\n",
    "3. void put(int key, int value) Update the value of the key if the key exists. Otherwise, add the key-value pair to the cache. If the number of keys exceeds the capacity from this operation, evict the least recently used key.\n",
    "\n",
    "The functions get and put must each run in O(1) average time complexity.\n",
    "\n"
   ]
  },
  {
   "cell_type": "code",
   "execution_count": null,
   "id": "62437020",
   "metadata": {},
   "outputs": [],
   "source": [
    "from collections import OrderedDict\n",
    "\n",
    "class LRUCache:\n",
    "    __slots__ = ('data', 'capacity')\n",
    "\n",
    "    def __init__(self, capacity: int):\n",
    "        self.data: Dict[int, int] = OrderedDict()\n",
    "        self.capacity: int = capacity\n",
    "\n",
    "    def get(self, key: int) -> int:\n",
    "        return -1 if key not in self.data else self.data.setdefault(key, self.data.pop(key))\n",
    "\n",
    "    def put(self, key: int, value: int) -> None:\n",
    "        try:\n",
    "            self.data.move_to_end(key)\n",
    "            self.data[key] = value\n",
    "        except KeyError:\n",
    "            self.data[key] = value\n",
    "            if len(self.data) > self.capacity:\n",
    "                self.data.popitem(last=False)\n",
    "\n",
    "# Your LRUCache object will be instantiated and called as such:\n",
    "# obj = LRUCache(capacity)\n",
    "# param_1 = obj.get(key)\n",
    "# obj.put(key,value)"
   ]
  },
  {
   "cell_type": "markdown",
   "id": "be66efe4",
   "metadata": {},
   "source": [
    "## Question 3"
   ]
  },
  {
   "cell_type": "markdown",
   "id": "1d5310ac",
   "metadata": {},
   "source": [
    "You are given a 0-indexed string s, a string a, a string b, and an integer k.\n",
    "\n",
    "An index i is beautiful if:\n",
    "\n",
    "1. 0 <= i <= s.length - a.length\n",
    "2. s[i..(i + a.length - 1)] == a\n",
    "3. There exists an index j such that:\n",
    "\n",
    "  1. 0 <= j <= s.length - b.length\n",
    "  2. s[j..(j + b.length - 1)] == b\n",
    "3.  |j - i| <= k\n",
    "\n",
    "Return the array that contains beautiful indices in sorted order from smallest to largest."
   ]
  },
  {
   "cell_type": "code",
   "execution_count": null,
   "id": "eb25602f",
   "metadata": {},
   "outputs": [],
   "source": [
    "class Solution:\n",
    "    def beautifulIndices(self, s: str, a: str, b: str, k: int) -> List[int]:\n",
    "        # List to store the beautiful indices\n",
    "        ans = []\n",
    "        # Lists to store starting indices of occurrences of strings 'a' and 'b'\n",
    "        indices_a, indices_b = [], []\n",
    "        \n",
    "        # Step 2: Find indices of occurrences of string 'a'\n",
    "        for i in range(len(s) - len(a) + 1):\n",
    "            if s[i:i+len(a)] == a:\n",
    "                indices_a.append(i)\n",
    "        \n",
    "        # Step 3: Find indices of occurrences of string 'b'\n",
    "        for j in range(len(s) - len(b) + 1):\n",
    "            if s[j:j+len(b)] == b:\n",
    "                indices_b.append(j)\n",
    "        \n",
    "        # Step 4: Check conditions and add beautiful indices to 'ans'\n",
    "        for i in indices_a:\n",
    "            for j in indices_b:\n",
    "                # Check if substrings match and absolute difference <= k\n",
    "                if abs(i - j) <= k:\n",
    "                    ans.append(i)\n",
    "                    break\n",
    "        \n",
    "        # Step 5: Sort the beautiful indices in ascending order\n",
    "        ans.sort()\n",
    "        \n",
    "        # Step 6: Return the final result\n",
    "        return ans\n"
   ]
  }
 ],
 "metadata": {
  "kernelspec": {
   "display_name": "Python 3 (ipykernel)",
   "language": "python",
   "name": "python3"
  },
  "language_info": {
   "codemirror_mode": {
    "name": "ipython",
    "version": 3
   },
   "file_extension": ".py",
   "mimetype": "text/x-python",
   "name": "python",
   "nbconvert_exporter": "python",
   "pygments_lexer": "ipython3",
   "version": "3.11.5"
  }
 },
 "nbformat": 4,
 "nbformat_minor": 5
}
