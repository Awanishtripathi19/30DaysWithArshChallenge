{
 "cells": [
  {
   "cell_type": "markdown",
   "id": "12c621a9",
   "metadata": {},
   "source": [
    "## Question 1"
   ]
  },
  {
   "cell_type": "markdown",
   "id": "3e6164e2",
   "metadata": {},
   "source": [
    "There are n cities numbered from 1 to n. You are given an array edges of size n-1, where edges[i] = [ui, vi] represents a bidirectional edge between cities ui and vi. There exists a unique path between each pair of cities. In other words, the cities form a tree.\n",
    "\n",
    "A subtree is a subset of cities where every city is reachable from every other city in the subset, where the path between each pair passes through only the cities from the subset. Two subtrees are different if there is a city in one subtree that is not present in the other.\n",
    "\n",
    "For each d from 1 to n-1, find the number of subtrees in which the maximum distance between any two cities in the subtree is equal to d.\n",
    "\n",
    "Return an array of size n-1 where the dth element (1-indexed) is the number of subtrees in which the maximum distance between any two cities is equal to d.\n",
    "\n",
    "Notice that the distance between the two cities is the number of edges in the path between them."
   ]
  },
  {
   "cell_type": "code",
   "execution_count": null,
   "id": "55760047",
   "metadata": {},
   "outputs": [],
   "source": [
    "class Solution:\n",
    "    def countSubgraphsForEachDiameter(self, n: int, edges: List[List[int]]) -> List[int]:\n",
    "        res = [0]*(n-1)\n",
    "        g = defaultdict(list)\n",
    "        gs = [0]*n\n",
    "        dp = [0]*(1<<n)\n",
    "        for a, b in edges:\n",
    "            a -= 1\n",
    "            b -= 1\n",
    "            g[a].append(b)\n",
    "            g[b].append(a)\n",
    "            gs[a] |= (1<<b)\n",
    "            gs[b] |= (1<<a)\n",
    "            dp[(1<<a)|(1<<b)] = 1\n",
    "        dis = [[0]*n for _ in range(n)]\n",
    "        def dfs(root, cur, depth, parent):\n",
    "            dis[root][cur] = depth\n",
    "            for nxt in g[cur]:\n",
    "                if nxt == parent:\n",
    "                    continue\n",
    "                dfs(root, nxt, depth+1, cur)\n",
    "            return\n",
    "\n",
    "        for i in range(n):\n",
    "            dfs(i,i,0,-1)\n",
    "            \n",
    "#         print(dis)\n",
    "#         print(ees)\n",
    "        \n",
    "        for state in range(1<<n):\n",
    "            # print(state, dp[state])\n",
    "            if dp[state] > 0:\n",
    "                res[dp[state]-1] += 1\n",
    "                for i in range(n):\n",
    "                    if dp[state | (1<<i)] == 0 and (state & gs[i]):\n",
    "                        dp[state | (1<<i)] = max(dp[state], max(dis[i][j] for j in range(n) if state&(1<<j)))\n",
    "                    # if dp[state | (1<<i)] == 0 and any((i,j) in ees for j in range(n) if state&(1<<j)):\n",
    "                    #     dp[state | (1<<i)] = max(dp[state], max(dis[i][j] for j in range(n) if state&(1<<j)))\n",
    "                    # if state & (1<<i) == 0 and any((i,j) in ees for j in range(n) if state&(1<<j)):\n",
    "                        # dp[state ^ (1<<i)] = max(dp[state ^ (1<<i)], dp[state], max(dis[i][j] for j in range(n) if state&(1<<j)))\n",
    "        return res"
   ]
  },
  {
   "cell_type": "markdown",
   "id": "07373b95",
   "metadata": {},
   "source": [
    "## Question 2"
   ]
  },
  {
   "cell_type": "markdown",
   "id": "71c45e9a",
   "metadata": {},
   "source": [
    "You are given an m x n binary grid grid where 1 represents land and 0 represents water. An island is a maximal 4-directionally (horizontal or vertical) connected group of 1's.\n",
    "\n",
    "The grid is said to be connected if we have exactly one island, otherwise is said disconnected.\n",
    "\n",
    "In one day, we are allowed to change any single land cell (1) into a water cell (0).\n",
    "\n",
    "Return the minimum number of days to disconnect the grid."
   ]
  },
  {
   "cell_type": "code",
   "execution_count": null,
   "id": "0f8db739",
   "metadata": {},
   "outputs": [],
   "source": [
    "class Solution:\n",
    "\n",
    "    def depth_first_search(self , current_i , current_j , R , C , binary_matrix , visited_set):\n",
    "\n",
    "        visited_set.add((current_i , current_j))\n",
    "\n",
    "        for next_i , next_j in [[-1 , 0] , [1 , 0] , [0 , -1] , [0 , 1]]:\n",
    "            \n",
    "            new_i = (current_i + next_i)\n",
    "\n",
    "            new_j = (current_j + next_j)\n",
    "\n",
    "            if((0 <= new_i < R) and (0 <= new_j < C) and ((new_i , new_j) not in visited_set) and (binary_matrix[new_i][new_j] == 1)):\n",
    "                self.depth_first_search(new_i , new_j , R , C , binary_matrix , visited_set)\n",
    "\n",
    "    def count_islands(self , R , C , binary_matrix):\n",
    "\n",
    "        count_of_islands = 0\n",
    "\n",
    "        visited_set = set()\n",
    "\n",
    "        for i in range(0 , R):\n",
    "            \n",
    "            for j in range(0 , C):\n",
    "                \n",
    "                if(((i , j) not in visited_set) and (binary_matrix[i][j] == 1)):\n",
    "\n",
    "                    count_of_islands += 1\n",
    "\n",
    "                    self.depth_first_search(i , j , R , C , binary_matrix , visited_set)\n",
    "        \n",
    "        return count_of_islands\n",
    "    \n",
    "    def minDays(self , binary_matrix : List[List[int]]) -> int:\n",
    "\n",
    "        R = len(binary_matrix)\n",
    "\n",
    "        C = len(binary_matrix[0])\n",
    "\n",
    "        islands_count = self.count_islands(R , C , binary_matrix)\n",
    "\n",
    "        if(islands_count > 1):\n",
    "            return 0\n",
    "        \n",
    "        count_of_1_s = 0\n",
    "        \n",
    "        for i in range(0 , R):\n",
    "\n",
    "            for j in range(0 , C):\n",
    "\n",
    "                if(binary_matrix[i][j] == 1):\n",
    "\n",
    "                    count_of_1_s += 1\n",
    "\n",
    "                    binary_matrix[i][j] = 0\n",
    "\n",
    "                    islands_count = self.count_islands(R , C , binary_matrix)\n",
    "\n",
    "                    if(islands_count > 1):\n",
    "                        return 1\n",
    "\n",
    "                    binary_matrix[i][j] = 1\n",
    "\n",
    "        return (1) if(count_of_1_s == 1) else ((0) if(count_of_1_s == 0) else (2))"
   ]
  },
  {
   "cell_type": "markdown",
   "id": "84f64792",
   "metadata": {},
   "source": [
    "## Question 3"
   ]
  },
  {
   "cell_type": "markdown",
   "id": "f9c0e7fb",
   "metadata": {},
   "source": [
    "You are building a string s of length n one character at a time, prepending each new character to the front of the string. The strings are labeled from 1 to n, where the string with length i is labeled si.\n",
    "\n",
    "1. For example, for s = \"abaca\", s1 == \"a\", s2 == \"ca\", s3 == \"aca\", etc.\n",
    "\n",
    "The score of si is the length of the longest common prefix between si and sn (Note that s == sn).\n",
    "\n",
    "Given the final string s, return the sum of the score of every si."
   ]
  },
  {
   "cell_type": "code",
   "execution_count": null,
   "id": "adc583e9",
   "metadata": {},
   "outputs": [],
   "source": [
    "class Solution:\n",
    "    def sumScores(self, s: str) -> int:\n",
    "        mod = 119_218_851_371\n",
    "        hs = 0 \n",
    "        vals = [0]\n",
    "        for i, ch in enumerate(s): \n",
    "            hs = (hs * 26 + ord(ch) - 97) % mod\n",
    "            vals.append(hs)\n",
    "        \n",
    "        p26 = [1]\n",
    "        for _ in range(len(s)): p26.append(p26[-1] * 26 % mod)\n",
    "        \n",
    "        ans = 0 \n",
    "        for i in range(len(s)): \n",
    "            if s[0] == s[i]: \n",
    "                lo, hi = i, len(s)\n",
    "                while lo < hi: \n",
    "                    mid = lo + hi + 1 >> 1\n",
    "                    hs = (vals[mid] - vals[i]*p26[mid-i]) % mod\n",
    "                    if hs == vals[mid-i]: lo = mid\n",
    "                    else: hi = mid - 1\n",
    "                ans += lo - i \n",
    "        return ans "
   ]
  }
 ],
 "metadata": {
  "kernelspec": {
   "display_name": "Python 3 (ipykernel)",
   "language": "python",
   "name": "python3"
  },
  "language_info": {
   "codemirror_mode": {
    "name": "ipython",
    "version": 3
   },
   "file_extension": ".py",
   "mimetype": "text/x-python",
   "name": "python",
   "nbconvert_exporter": "python",
   "pygments_lexer": "ipython3",
   "version": "3.11.5"
  }
 },
 "nbformat": 4,
 "nbformat_minor": 5
}
