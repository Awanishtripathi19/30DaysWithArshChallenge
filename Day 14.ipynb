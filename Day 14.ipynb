{
 "cells": [
  {
   "cell_type": "markdown",
   "id": "72c5e41c",
   "metadata": {},
   "source": [
    "## Question 1"
   ]
  },
  {
   "cell_type": "markdown",
   "id": "88b0f5b8",
   "metadata": {},
   "source": [
    "One way to serialize a binary tree is to use preorder traversal. When we encounter a non-null node, we record the node's value. If it is a null node, we record using a sentinel value such as '#'.\n",
    "\n",
    "For example, the above binary tree can be serialized to the string \"9,3,4,#,#,1,#,#,2,#,6,#,#\", where '#' represents a null node.\n",
    "\n",
    "Given a string of comma-separated values preorder, return true if it is a correct preorder traversal serialization of a binary tree.\n",
    "\n",
    "It is guaranteed that each comma-separated value in the string must be either an integer or a character '#' representing null pointer.\n",
    "\n",
    "1. You may assume that the input format is always valid.\n",
    "\n",
    "For example, it could never contain two consecutive commas, such as \"1,,3\".\n",
    "Note: You are not allowed to reconstruct the tree."
   ]
  },
  {
   "cell_type": "code",
   "execution_count": null,
   "id": "f5411043",
   "metadata": {},
   "outputs": [],
   "source": [
    "class Solution:\n",
    "    def isValidSerialization(self, preorder: str) -> bool:\n",
    "        # Initialize the outDegree (children) - inDegree (parent) to 1\n",
    "        degree = 1\n",
    "        \n",
    "        # Iterate through the nodes in the preorder traversal\n",
    "        for node in preorder.split(','):\n",
    "            degree -= 1 # Decrement the degree by 1 for each node\n",
    "            \n",
    "            if degree < 0: # If the degree is negative, return False\n",
    "                return False\n",
    "            \n",
    "            if node != '#': # If the node is not a leaf node\n",
    "                degree += 2 # Increment the degree by 2 for each non-leaf node\n",
    "            \n",
    "        # If the final degree is 0, the tree is valid, else invalid\n",
    "        return degree == 0"
   ]
  },
  {
   "cell_type": "markdown",
   "id": "9b6f6e0b",
   "metadata": {},
   "source": [
    "## Question 2"
   ]
  },
  {
   "cell_type": "markdown",
   "id": "c58fbb7d",
   "metadata": {},
   "source": [
    "Given an array of strings words and an integer k, return the k most frequent strings.\n",
    "\n",
    "Return the answer sorted by the frequency from highest to lowest. Sort the words with the same frequency by their lexicographical order."
   ]
  },
  {
   "cell_type": "code",
   "execution_count": null,
   "id": "b13ed783",
   "metadata": {},
   "outputs": [],
   "source": [
    "class Solution:\n",
    "    def topKFrequent(self, words: List[str], k: int) -> List[str]:\n",
    "        dict = {}\n",
    "        for x in words:\n",
    "            if x in dict:\n",
    "                dict[x] += 1\n",
    "            else:\n",
    "                dict[x] = 1\n",
    "        res = sorted(dict, key=lambda x: (-dict[x], x))\n",
    "        return res[:k]"
   ]
  },
  {
   "cell_type": "markdown",
   "id": "28c3ba8d",
   "metadata": {},
   "source": [
    "## Question 3"
   ]
  },
  {
   "cell_type": "markdown",
   "id": "014682b6",
   "metadata": {},
   "source": [
    "Given an m x n matrix board where each cell is a battleship 'X' or empty '.', return the number of the battleships on board.\n",
    "\n",
    "Battleships can only be placed horizontally or vertically on board. In other words, they can only be made of the shape 1 x k (1 row, k columns) or k x 1 (k rows, 1 column), where k can be of any size. At least one horizontal or vertical cell separates between two battleships (i.e., there are no adjacent battleships)."
   ]
  },
  {
   "cell_type": "code",
   "execution_count": null,
   "id": "a35a1e05",
   "metadata": {},
   "outputs": [],
   "source": [
    "class Solution:\n",
    "    def countBattleships(self, board: List[List[str]]) -> int:\n",
    "        count = 0\n",
    "        \n",
    "        for i, row in enumerate(board):\n",
    "            for j, cell in enumerate(row):\n",
    "                if cell == \"X\":\n",
    "                    if (i == 0 or board[i - 1][j] == \".\") and\\\n",
    "                       (j == 0 or board[i][j - 1] == \".\"):\n",
    "                            count += 1\n",
    "                            \n",
    "        return count"
   ]
  }
 ],
 "metadata": {
  "kernelspec": {
   "display_name": "Python 3 (ipykernel)",
   "language": "python",
   "name": "python3"
  },
  "language_info": {
   "codemirror_mode": {
    "name": "ipython",
    "version": 3
   },
   "file_extension": ".py",
   "mimetype": "text/x-python",
   "name": "python",
   "nbconvert_exporter": "python",
   "pygments_lexer": "ipython3",
   "version": "3.11.5"
  }
 },
 "nbformat": 4,
 "nbformat_minor": 5
}
