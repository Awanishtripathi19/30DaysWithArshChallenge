{
 "cells": [
  {
   "cell_type": "markdown",
   "id": "635f232d",
   "metadata": {},
   "source": [
    "## Question 1"
   ]
  },
  {
   "cell_type": "markdown",
   "id": "f689deed",
   "metadata": {},
   "source": [
    "You are given a 0-indexed array of strings nums, where each string is of equal length and consists of only digits.\n",
    "\n",
    "You are also given a 0-indexed 2D integer array queries where queries[i] = [ki, trimi]. For each queries[i], you need to:\n",
    "\n",
    "1. Trim each number in nums to its rightmost trimi digits.\n",
    "2. Determine the index of the kith smallest trimmed number in nums. If two trimmed numbers are equal, the number with the lower index is considered to be smaller.\n",
    "3. Reset each number in nums to its original length.\n",
    "\n",
    "Return an array answer of the same length as queries, where answer[i] is the answer to the ith query.\n",
    "\n",
    "Note:\n",
    "\n",
    "1. To trim to the rightmost x digits means to keep removing the leftmost digit, until only x digits remain.\n",
    "2. Strings in nums may contain leading zeros."
   ]
  },
  {
   "cell_type": "code",
   "execution_count": null,
   "id": "88b85b0b",
   "metadata": {},
   "outputs": [],
   "source": [
    "class Solution:\n",
    "    def smallestTrimmedNumbers(self, nums: List[str], queries: List[List[int]]) -> List[int]:\n",
    "        ans, trimmed = [], {}\n",
    "        for k, trim in queries:\n",
    "            trimmed.setdefault(trim, sorted([(num[-trim :], i) for i, num in enumerate(nums)]))\n",
    "            ans.append(trimmed[trim][k - 1][1])\n",
    "        return ans"
   ]
  },
  {
   "cell_type": "markdown",
   "id": "1f0075d3",
   "metadata": {},
   "source": [
    "## Question 2"
   ]
  },
  {
   "cell_type": "markdown",
   "id": "8d156dfd",
   "metadata": {},
   "source": [
    "You are given an integer array nums. We call a subset of nums good if its product can be represented as a product of one or more distinct prime numbers.\n",
    "\n",
    "For example,\n",
    "\n",
    "if nums = [1, 2, 3, 4]:\n",
    "1. [2, 3], [1, 2, 3], and [1, 3] are good subsets with products 6 = 2*3, 6 = 2*3, and 3 = 3 respectively.\n",
    "2. [1, 4] and [4] are not good subsets with products 4 = 2*2 and 4 = 2*2 respectively.\n",
    "Return the number of different good subsets in nums modulo 109 + 7.\n",
    "\n",
    "A subset of nums is any array that can be obtained by deleting some (possibly none or all) elements from nums. Two subsets are different if and only if the chosen indices to delete are different."
   ]
  },
  {
   "cell_type": "code",
   "execution_count": null,
   "id": "9f34eb46",
   "metadata": {},
   "outputs": [],
   "source": [
    "class Solution:\n",
    "    def numberOfGoodSubsets(self, nums: List[int]) -> int:\n",
    "        freq = [0] * 31\n",
    "        for x in nums: freq[x] += 1\n",
    "        \n",
    "        masks = [0] * 31\n",
    "        for x in range(1, 31): \n",
    "            if x == 1: masks[x] = 0b10\n",
    "            else: \n",
    "                bits = 0\n",
    "                xx = x\n",
    "                for k in (2, 3, 5, 7, 11, 13, 17, 19, 23, 29): \n",
    "                    while xx % k == 0: \n",
    "                        if (bits >> k) & 1: break # repeated factors \n",
    "                        bits ^= 1 << k\n",
    "                        xx //= k\n",
    "                    else: continue \n",
    "                    break \n",
    "                else: masks[x] = bits\n",
    "                    \n",
    "        @cache\n",
    "        def fn(x, m): \n",
    "            \"\"\"Return number of good subsets.\"\"\"\n",
    "            if x == 31: return int(m > 2)\n",
    "            ans = fn(x+1, m)\n",
    "            if freq[x] and masks[x]: \n",
    "                if x == 1: ans *= 2**freq[x]\n",
    "                elif not m & masks[x]: ans += freq[x] * fn(x+1, m | masks[x])\n",
    "            return ans % 1_000_000_007\n",
    "        \n",
    "        return fn(1, 0)"
   ]
  },
  {
   "cell_type": "markdown",
   "id": "1f5fe150",
   "metadata": {},
   "source": [
    "## Question3"
   ]
  },
  {
   "cell_type": "markdown",
   "id": "42f70280",
   "metadata": {},
   "source": [
    "There are n cars on an infinitely long road. The cars are numbered from 0 to n - 1 from left to right and each car is present at a unique point.\n",
    "\n",
    "You are given a 0-indexed string directions of length n. directions[i] can be either 'L', 'R', or 'S' denoting whether the ith car is moving towards the left, towards the right, or staying at its current point respectively. Each moving car has the same speed.\n",
    "\n",
    "The number of collisions can be calculated as follows:\n",
    "\n",
    "1. When two cars moving in opposite directions collide with each other, the number of collisions increases by 2.\n",
    "2. When a moving car collides with a stationary car, the number of collisions increases by 1.\n",
    "\n",
    "After a collision, the cars involved can no longer move and will stay at the point where they collided. Other than that, cars cannot change their state or direction of motion.\n",
    "\n",
    "Return the total number of collisions that will happen on the road."
   ]
  },
  {
   "cell_type": "code",
   "execution_count": null,
   "id": "f4348fd1",
   "metadata": {},
   "outputs": [],
   "source": [
    "class Solution:\n",
    "    def countCollisions(self, directions: str) -> int:\n",
    "        \n",
    "        res, n, i, carsFromRight = 0, len(directions), 0, 0\n",
    "        \n",
    "        while i < n and directions[i] == 'L':\n",
    "               i+=1\n",
    "        \n",
    "        while i<n:\n",
    "            if directions[i] == 'R':\n",
    "                carsFromRight+=1\n",
    "            else:\n",
    "                res += carsFromRight if directions[i] == 'S' else carsFromRight+1;\n",
    "                carsFromRight = 0\n",
    "            i+=1\n",
    "                \n",
    "        return res"
   ]
  }
 ],
 "metadata": {
  "kernelspec": {
   "display_name": "Python 3 (ipykernel)",
   "language": "python",
   "name": "python3"
  },
  "language_info": {
   "codemirror_mode": {
    "name": "ipython",
    "version": 3
   },
   "file_extension": ".py",
   "mimetype": "text/x-python",
   "name": "python",
   "nbconvert_exporter": "python",
   "pygments_lexer": "ipython3",
   "version": "3.11.5"
  }
 },
 "nbformat": 4,
 "nbformat_minor": 5
}
