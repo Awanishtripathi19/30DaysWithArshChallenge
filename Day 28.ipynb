{
 "cells": [
  {
   "cell_type": "markdown",
   "id": "34f981ea",
   "metadata": {},
   "source": [
    "## Question 1"
   ]
  },
  {
   "cell_type": "markdown",
   "id": "0eaf2253",
   "metadata": {},
   "source": [
    "You are given an array of non-negative integers nums and an integer k. In one operation, you may choose any element from nums and increment it by 1.\n",
    "\n",
    "Return the maximum product of nums after at most k operations. Since the answer may be very large, return it modulo 109 + 7. Note that you should maximize the product before taking the modulo."
   ]
  },
  {
   "cell_type": "code",
   "execution_count": null,
   "id": "8faf6eb7",
   "metadata": {},
   "outputs": [],
   "source": [
    "class Solution:\n",
    "    def maximumProduct(self, nums: List[int], n: int) -> int:\n",
    "        hash_map = {}\n",
    "        min_num = sys.maxsize\n",
    "        for num in nums:\n",
    "            min_num = min(min_num, num)\n",
    "            if num not in hash_map:\n",
    "                hash_map[num] = 1\n",
    "            else:\n",
    "                hash_map[num] += 1\n",
    "        while n>0:\n",
    "            n -= 1\n",
    "            hash_map[min_num] -= 1\n",
    "            if hash_map[min_num] == 0:\n",
    "                min_num = min_num+1\n",
    "                curr_num = min_num\n",
    "            else:\n",
    "                curr_num = min_num+1\n",
    "            if curr_num not in hash_map:\n",
    "                hash_map[curr_num] = 1\n",
    "            else:\n",
    "                hash_map[curr_num] += 1\n",
    "        prod = 1\n",
    "        for key, val in hash_map.items():\n",
    "            while val > 0:\n",
    "                prod = (prod*key)%1000000007\n",
    "                val -= 1\n",
    "        return prod"
   ]
  },
  {
   "cell_type": "markdown",
   "id": "4dd8c6af",
   "metadata": {},
   "source": [
    "## Question 2"
   ]
  },
  {
   "cell_type": "markdown",
   "id": "b6e996b8",
   "metadata": {},
   "source": [
    "You are given a 2D array of integers envelopes where envelopes[i] = [wi, hi] represents the width and the height of an envelope.\n",
    "\n",
    "One envelope can fit into another if and only if both the width and height of one envelope are greater than the other envelope's width and height.\n",
    "\n",
    "Return the maximum number of envelopes you can Russian doll (i.e., put one inside the other).\n",
    "\n",
    "Note: You cannot rotate an envelope."
   ]
  },
  {
   "cell_type": "code",
   "execution_count": null,
   "id": "5e62d6f7",
   "metadata": {},
   "outputs": [],
   "source": [
    "class Solution:\n",
    "    def maxEnvelopes(self, envelopes: List[List[int]]) -> int:\n",
    "        if not envelopes:\n",
    "            return 0\n",
    "\n",
    "        # Sort envelopes based on widths in ascending order\n",
    "        envelopes.sort(key=lambda x: (x[0], -x[1]))\n",
    "\n",
    "        # Use binary search to find the longest increasing subsequence of heights\n",
    "        heights = [float('inf')] * len(envelopes)\n",
    "        result = 0\n",
    "\n",
    "        for _, h in envelopes:\n",
    "            index = bisect_left(heights, h)\n",
    "            heights[index] = h\n",
    "            result = max(result, index + 1)\n",
    "\n",
    "        return result"
   ]
  },
  {
   "cell_type": "markdown",
   "id": "312ea79f",
   "metadata": {},
   "source": [
    "## Question 3"
   ]
  },
  {
   "cell_type": "markdown",
   "id": "1f3eada1",
   "metadata": {},
   "source": [
    "You are given a 0-indexed array of strings nums, where each string is of equal length and consists of only digits.\n",
    "\n",
    "You are also given a 0-indexed 2D integer array queries where queries[i] = [ki, trimi]. For each queries[i], you need to:\n",
    "\n",
    "Trim each number in nums to its rightmost trimi digits.\n",
    "1. Determine the index of the kith smallest trimmed number in nums. If two trimmed numbers are equal, the number with the lower index is considered to be smaller.\n",
    "2. Reset each number in nums to its original length.\n",
    "3. Return an array answer of the same length as queries, where answer[i] is the answer to the ith query.\n",
    "\n",
    "Note:\n",
    "\n",
    "1. To trim to the rightmost x digits means to keep removing the leftmost digit, until only x digits remain.\n",
    "2. Strings in nums may contain leading zeros."
   ]
  },
  {
   "cell_type": "code",
   "execution_count": null,
   "id": "f55fb509",
   "metadata": {},
   "outputs": [],
   "source": [
    "class Solution:\n",
    "    def smallestTrimmedNumbers(self, nums: List[str], queries: List[List[int]]) -> List[int]:\n",
    "        ans, trimmed = [], {}\n",
    "        for k, trim in queries:\n",
    "            trimmed.setdefault(trim, sorted([(num[-trim :], i) for i, num in enumerate(nums)]))\n",
    "            ans.append(trimmed[trim][k - 1][1])\n",
    "        return ans"
   ]
  }
 ],
 "metadata": {
  "kernelspec": {
   "display_name": "Python 3 (ipykernel)",
   "language": "python",
   "name": "python3"
  },
  "language_info": {
   "codemirror_mode": {
    "name": "ipython",
    "version": 3
   },
   "file_extension": ".py",
   "mimetype": "text/x-python",
   "name": "python",
   "nbconvert_exporter": "python",
   "pygments_lexer": "ipython3",
   "version": "3.11.5"
  }
 },
 "nbformat": 4,
 "nbformat_minor": 5
}
