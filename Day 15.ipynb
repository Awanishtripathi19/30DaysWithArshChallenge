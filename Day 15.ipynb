{
 "cells": [
  {
   "cell_type": "markdown",
   "id": "961b7291",
   "metadata": {},
   "source": [
    "## Question 1"
   ]
  },
  {
   "cell_type": "markdown",
   "id": "9fabeda1",
   "metadata": {},
   "source": [
    "Given a string s, sort it in decreasing order based on the frequency of the characters. The frequency of a character is the number of times it appears in the string.\n",
    "\n",
    "Return the sorted string. If there are multiple answers, return any of them."
   ]
  },
  {
   "cell_type": "code",
   "execution_count": null,
   "id": "ff272c22",
   "metadata": {},
   "outputs": [],
   "source": [
    "class Solution:\n",
    "    def frequencySort(self, s: str) -> str:\n",
    "        # Count the occurence on each character\n",
    "        cnt = collections.defaultdict(int)\n",
    "        for c in s:\n",
    "            cnt[c] += 1\n",
    "        \n",
    "        # Sort and Build string\n",
    "        res = []\n",
    "        for k, v in sorted(cnt.items(), key = lambda x: -x[1]):\n",
    "            res += [k] * v\n",
    "        return \"\".join(res)"
   ]
  },
  {
   "cell_type": "markdown",
   "id": "fc51f800",
   "metadata": {},
   "source": [
    "## Question 2"
   ]
  },
  {
   "cell_type": "markdown",
   "id": "f7a3f0a8",
   "metadata": {},
   "source": [
    "Given a string s and a dictionary of strings wordDict, return true if s can be segmented into a space-separated sequence of one or more dictionary words.\n",
    "\n",
    "Note that the same word in the dictionary may be reused multiple times in the segmentation."
   ]
  },
  {
   "cell_type": "code",
   "execution_count": null,
   "id": "2d83d99a",
   "metadata": {},
   "outputs": [],
   "source": [
    "class Solution:\n",
    "    def wordBreak(self, s: str, wordDict: List[str]) -> bool:\n",
    "        dp = [False]*(len(s)+1)\n",
    "        dp[len(s)] = True\n",
    "        for i in range(len(s)-1,-1,-1):\n",
    "            for w in wordDict:\n",
    "                if (i+len(w)<=len(s) and s[i:i+len(w)]==w):\n",
    "                    dp[i] = dp[i+len(w)]\n",
    "                if dp[i]:\n",
    "                    break\n",
    "        return dp[0]"
   ]
  },
  {
   "cell_type": "markdown",
   "id": "770d3f86",
   "metadata": {},
   "source": [
    "## Question 3"
   ]
  },
  {
   "cell_type": "markdown",
   "id": "59f2575a",
   "metadata": {},
   "source": [
    "You are given a 0-indexed string s and a dictionary of words dictionary. You have to break s into one or more non-overlapping substrings such that each substring is present in dictionary. There may be some extra characters in s which are not present in any of the substrings.\n",
    "\n",
    "Return the minimum number of extra characters left over if you break up s optimally."
   ]
  },
  {
   "cell_type": "code",
   "execution_count": null,
   "id": "39e2c36b",
   "metadata": {},
   "outputs": [],
   "source": [
    "class Solution:\n",
    "    def __init__(self):\n",
    "        self.dp = [-1] * 51  # Initialize dp array with -1 values\n",
    "        \n",
    "    def minExtraChar(self, s, dictionary):\n",
    "        return self.minExtraCharHelper(s, dictionary, 0)\n",
    "    \n",
    "    def minExtraCharHelper(self, s, dictionary, i):\n",
    "        if i == len(s):\n",
    "            return 0\n",
    "\n",
    "        if self.dp[i] == -1:\n",
    "            self.dp[i] = 1 + self.minExtraCharHelper(s, dictionary, i + 1)  # Initialize with one extra character.\n",
    "\n",
    "            for w in dictionary:\n",
    "                if s[i:i+len(w)] == w:\n",
    "                    self.dp[i] = min(self.dp[i], self.minExtraCharHelper(s, dictionary, i + len(w)))  # Update if a word in the dictionary is found.\n",
    "\n",
    "        return self.dp[i]  # Return the minimum extra characters starting from position i"
   ]
  }
 ],
 "metadata": {
  "kernelspec": {
   "display_name": "Python 3 (ipykernel)",
   "language": "python",
   "name": "python3"
  },
  "language_info": {
   "codemirror_mode": {
    "name": "ipython",
    "version": 3
   },
   "file_extension": ".py",
   "mimetype": "text/x-python",
   "name": "python",
   "nbconvert_exporter": "python",
   "pygments_lexer": "ipython3",
   "version": "3.11.5"
  }
 },
 "nbformat": 4,
 "nbformat_minor": 5
}
