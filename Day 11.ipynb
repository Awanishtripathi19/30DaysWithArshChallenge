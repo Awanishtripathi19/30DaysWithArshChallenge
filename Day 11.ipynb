{
 "cells": [
  {
   "cell_type": "markdown",
   "id": "3d8d430c",
   "metadata": {},
   "source": [
    "## Question 1"
   ]
  },
  {
   "cell_type": "markdown",
   "id": "a9d0cf79",
   "metadata": {},
   "source": [
    "Given a set of distinct positive integers nums, return the largest subset answer such that every pair (answer[i], answer[j]) of elements in this subset satisfies:\n",
    "\n",
    "1. answer[i] % answer[j] == 0, or\n",
    "2. answer[j] % answer[i] == 0\n",
    "\n",
    "If there are multiple solutions, return any of them."
   ]
  },
  {
   "cell_type": "code",
   "execution_count": null,
   "id": "f3ac489c",
   "metadata": {},
   "outputs": [],
   "source": [
    "class Solution:\n",
    "    def largestDivisibleSubset(self, nums: List[int]) -> List[int]:\n",
    "        n= len(nums)\n",
    "        \n",
    "        if n==0:return []\n",
    "        \n",
    "        nums.sort()\n",
    "        \n",
    "        dp=[ [i] for i in nums]\n",
    "        \n",
    "        for i in range(n):\n",
    "            for j in range(i):\n",
    "                \n",
    "                if nums[i]%nums[j]==0 and len(dp[j])+1 > len(dp[i]):\n",
    "                    \n",
    "                    dp[i] = dp[j]+[nums[i]]\n",
    "        \n",
    "        return max(dp, key=len)"
   ]
  },
  {
   "cell_type": "markdown",
   "id": "6ce0ec1f",
   "metadata": {},
   "source": [
    "## Question 2"
   ]
  },
  {
   "cell_type": "markdown",
   "id": "e61dd61f",
   "metadata": {},
   "source": [
    "You are given an integer array nums and an integer k. You want to find a subsequence of nums of length k that has the largest sum.\n",
    "\n",
    "Return any such subsequence as an integer array of length k.\n",
    "\n",
    "A subsequence is an array that can be derived from another array by deleting some or no elements without changing the order of the remaining elements."
   ]
  },
  {
   "cell_type": "code",
   "execution_count": null,
   "id": "9b346afb",
   "metadata": {},
   "outputs": [],
   "source": [
    "class Solution:\n",
    "    def maxSubsequence(self, nums: List[int], k: int) -> List[int]:\n",
    "        heap = []\n",
    "        for n in nums:\n",
    "            heapq.heappush(heap, n)\n",
    "            if len(heap) > k:\n",
    "                heapq.heappop(heap)\n",
    "        cnt = Counter(heap)\n",
    "        res = []\n",
    "        for n in nums:\n",
    "            if cnt[n] > 0:\n",
    "                cnt[n] -= 1\n",
    "                res.append(n)\n",
    "        return res"
   ]
  },
  {
   "cell_type": "markdown",
   "id": "1b11056c",
   "metadata": {},
   "source": [
    "## Question 3"
   ]
  },
  {
   "cell_type": "markdown",
   "id": "06f89586",
   "metadata": {},
   "source": [
    "You are given the root of a binary tree with unique values, and an integer start. At minute 0, an infection starts from the node with value start.\n",
    "\n",
    "Each minute, a node becomes infected if:\n",
    "\n",
    "1. The node is currently uninfected.\n",
    "2. The node is adjacent to an infected node.\n",
    "\n",
    "Return the number of minutes needed for the entire tree to be infected."
   ]
  },
  {
   "cell_type": "code",
   "execution_count": null,
   "id": "6613f802",
   "metadata": {},
   "outputs": [],
   "source": [
    "# Definition for a binary tree node.\n",
    "# class TreeNode:\n",
    "#     def __init__(self, val=0, left=None, right=None):\n",
    "#         self.val = val\n",
    "#         self.left = left\n",
    "#         self.right = right\n",
    "class Solution:\n",
    "    def amountOfTime(self, root: Optional[TreeNode], start: int) -> int:\n",
    "        def dfs(node):\n",
    "            if node is None:\n",
    "                return\n",
    "            if node.left:\n",
    "                graph[node.val].append(node.left.val)\n",
    "                graph[node.left.val].append(node.val)\n",
    "            if node.right:\n",
    "                graph[node.val].append(node.right.val)\n",
    "                graph[node.right.val].append(node.val)\n",
    "            dfs(node.left)\n",
    "            dfs(node.right)\n",
    "\n",
    "        graph = defaultdict(list)\n",
    "        dfs(root)\n",
    "        visited = set()\n",
    "        queue = deque([start])\n",
    "        time = -1\n",
    "        while queue:\n",
    "            time += 1\n",
    "            for _ in range(len(queue)):\n",
    "                current_node = queue.popleft()\n",
    "                visited.add(current_node)\n",
    "                for neighbor in graph[current_node]:\n",
    "                    if neighbor not in visited:\n",
    "                        queue.append(neighbor)\n",
    "        return time"
   ]
  }
 ],
 "metadata": {
  "kernelspec": {
   "display_name": "Python 3 (ipykernel)",
   "language": "python",
   "name": "python3"
  },
  "language_info": {
   "codemirror_mode": {
    "name": "ipython",
    "version": 3
   },
   "file_extension": ".py",
   "mimetype": "text/x-python",
   "name": "python",
   "nbconvert_exporter": "python",
   "pygments_lexer": "ipython3",
   "version": "3.11.5"
  }
 },
 "nbformat": 4,
 "nbformat_minor": 5
}
