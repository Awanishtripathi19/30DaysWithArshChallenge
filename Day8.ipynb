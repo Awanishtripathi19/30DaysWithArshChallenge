{
 "cells": [
  {
   "cell_type": "markdown",
   "id": "a9637e33",
   "metadata": {},
   "source": [
    "## Question 1"
   ]
  },
  {
   "cell_type": "markdown",
   "id": "60ecbce8",
   "metadata": {},
   "source": [
    "You are playing the Bulls and Cows game with your friend.\n",
    "\n",
    "You write down a secret number and ask your friend to guess what the number is. When your friend makes a guess, you provide a hint with the following info:\n",
    "\n",
    "1. The number of \"bulls\", which are digits in the guess that are in the correct position.\n",
    "2. The number of \"cows\", which are digits in the guess that are in your secret number but are located in the wrong position. Specifically, the non-bull digits in the guess that could be rearranged such that they become bulls.\n",
    "\n",
    "Given the secret number secret and your friend's guess guess, return the hint for your friend's guess.\n",
    "\n",
    "The hint should be formatted as \"xAyB\", where x is the number of bulls and y is the number of cows. Note that both secret and guess may contain duplicate digits."
   ]
  },
  {
   "cell_type": "code",
   "execution_count": null,
   "id": "f9949c08",
   "metadata": {},
   "outputs": [],
   "source": [
    "class Solution:\n",
    "    def getHint(self, secret: str, guess: str) -> str:\n",
    "        noOfCows=0\n",
    "        noOfBulls=0\n",
    "        n=len(secret)\n",
    "        for i in range(n):\n",
    "            if secret[i]==guess[i]:\n",
    "                noOfBulls+=1\n",
    "        for digit in set(secret):\n",
    "            noOfCows+=min(secret.count(digit),guess.count(digit))\n",
    "        return f\"{noOfBulls}A{noOfCows-noOfBulls}B\""
   ]
  },
  {
   "cell_type": "markdown",
   "id": "5abedb93",
   "metadata": {},
   "source": [
    "## Question 2"
   ]
  },
  {
   "cell_type": "markdown",
   "id": "e5b13f0b",
   "metadata": {},
   "source": [
    "Given an array of integers nums and an integer k. A continuous subarray is called nice if there are k odd numbers on it.\n",
    "\n",
    "Return the number of nice sub-arrays."
   ]
  },
  {
   "cell_type": "code",
   "execution_count": null,
   "id": "d4bb11e8",
   "metadata": {},
   "outputs": [],
   "source": [
    "class Solution:\n",
    "    def numberOfSubarrays(self, nums: List[int], k: int) -> int:\n",
    "        right ,left = 0,0\n",
    "        ans = 0 \n",
    "        odd_cnt = 0\n",
    "        ans = 0\n",
    "        cur_sub_cnt = 0\n",
    "        for right in range(len(nums)):\n",
    "            \n",
    "            if nums[right]%2 == 1:\n",
    "                odd_cnt += 1\n",
    "                cur_sub_cnt = 0\n",
    "                \n",
    "            while odd_cnt == k:\n",
    "                if nums[left]%2 == 1:\n",
    "                    odd_cnt -= 1\n",
    "                cur_sub_cnt += 1\n",
    "                left += 1\n",
    "                \n",
    "            ans += cur_sub_cnt\n",
    "            \n",
    "        return ans"
   ]
  },
  {
   "cell_type": "markdown",
   "id": "5c57fc3f",
   "metadata": {},
   "source": [
    "## Question 3"
   ]
  },
  {
   "cell_type": "markdown",
   "id": "1e2f6ef7",
   "metadata": {},
   "source": [
    "The DNA sequence is composed of a series of nucleotides abbreviated as 'A', 'C', 'G', and 'T'.\n",
    "\n",
    "1. For example, \"ACGAATTCCG\" is a DNA sequence.\n",
    "When studying DNA, it is useful to identify repeated sequences within the DNA.\n",
    "\n",
    "Given a string s that represents a DNA sequence, return all the 10-letter-long sequences (substrings) that occur more than once in a DNA molecule. You may return the answer in any order."
   ]
  },
  {
   "cell_type": "code",
   "execution_count": null,
   "id": "3c335f8c",
   "metadata": {},
   "outputs": [],
   "source": [
    "class Solution:\n",
    "    def findRepeatedDnaSequences(self, s: str) -> List[str]:\n",
    "        n = len(s)\n",
    "        cnt = defaultdict(int)\n",
    "        ans = []\n",
    "\n",
    "        for i in range(n - 9):\n",
    "            dna = s[i:i+10]\n",
    "            cnt[dna] += 1\n",
    "            if cnt[dna] == 2:\n",
    "                ans.append(dna)\n",
    "\n",
    "        return ans"
   ]
  }
 ],
 "metadata": {
  "kernelspec": {
   "display_name": "Python 3 (ipykernel)",
   "language": "python",
   "name": "python3"
  },
  "language_info": {
   "codemirror_mode": {
    "name": "ipython",
    "version": 3
   },
   "file_extension": ".py",
   "mimetype": "text/x-python",
   "name": "python",
   "nbconvert_exporter": "python",
   "pygments_lexer": "ipython3",
   "version": "3.11.5"
  }
 },
 "nbformat": 4,
 "nbformat_minor": 5
}
