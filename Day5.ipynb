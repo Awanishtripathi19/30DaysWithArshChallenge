{
 "cells": [
  {
   "cell_type": "markdown",
   "id": "0d5f6fbb",
   "metadata": {},
   "source": [
    "## Question 1"
   ]
  },
  {
   "cell_type": "markdown",
   "id": "1ce2debc",
   "metadata": {},
   "source": [
    "On day 1, one person discovers a secret.\n",
    "\n",
    "You are given an integer delay, which means that each person will share the secret with a new person every day, starting from delay days after discovering the secret. You are also given an integer forget, which means that each person will forget the secret forget days after discovering it. A person cannot share the secret on the same day they forgot it, or on any day afterwards.\n",
    "\n",
    "Given an integer n, return the number of people who know the secret at the end of day n. Since the answer may be very large, return it modulo 109 + 7."
   ]
  },
  {
   "cell_type": "code",
   "execution_count": null,
   "id": "7587ad45",
   "metadata": {},
   "outputs": [],
   "source": [
    "class Solution:\n",
    "    def peopleAwareOfSecret(self, n: int, delay: int, forget: int) -> int:\n",
    "        dp=[0 for i in range(n+1)]\n",
    "        res=0\n",
    "        noofPeopleSharingSecret = 0\n",
    "        mod=10**9+7\n",
    "        dp[1]=1\n",
    "        for i in range(2,n+1):\n",
    "            noOfDelay=dp[max(0,i-delay)]\n",
    "            noOfForgetSecret=dp[max(0,i-forget)]\n",
    "            noofPeopleSharingSecret+=(noOfDelay-noOfForgetSecret)%mod\n",
    "            dp[i]=noofPeopleSharingSecret\n",
    "        for i in range(n-forget+1,n+1):\n",
    "            res=(res+dp[i])%mod\n",
    "        return res"
   ]
  },
  {
   "cell_type": "markdown",
   "id": "787b65c2",
   "metadata": {},
   "source": [
    "## Question 2"
   ]
  },
  {
   "cell_type": "markdown",
   "id": "629acc8f",
   "metadata": {},
   "source": [
    "Given a string, Your task is to  complete the function encode that returns the run length encoded string for the given string.\n",
    "eg if the input string is “wwwwaaadexxxxxx”, then the function should return “w4a3d1e1x6″.\n",
    "You are required to complete the function encode that takes only one argument the string which is to be encoded and returns the encoded string."
   ]
  },
  {
   "cell_type": "code",
   "execution_count": null,
   "id": "3bcce0b4",
   "metadata": {},
   "outputs": [],
   "source": [
    "#Your task is to complete this function\n",
    "#Function should return complete string\n",
    "def encode(arr):\n",
    "    # Code here\n",
    "    n=len(arr)\n",
    "    count=1\n",
    "    res=\"\"\n",
    "    for i in range(1,n):\n",
    "        if arr[i]==arr[i-1]:\n",
    "            count+=1\n",
    "        else:\n",
    "            res=res+arr[i-1]+str(count)\n",
    "            count=1\n",
    "    res=res+arr[n-1]+str(count)\n",
    "    return res"
   ]
  },
  {
   "cell_type": "markdown",
   "id": "4e577b01",
   "metadata": {},
   "source": [
    "## Question 3"
   ]
  },
  {
   "cell_type": "markdown",
   "id": "eeace45a",
   "metadata": {},
   "source": [
    "You are given two positive integers startPos and endPos. Initially, you are standing at position startPos on an infinite number line. With one step, you can move either one position to the left, or one position to the right.\n",
    "\n",
    "Given a positive integer k, return the number of different ways to reach the position endPos starting from startPos, such that you perform exactly k steps. Since the answer may be very large, return it modulo 109 + 7.\n",
    "\n",
    "Two ways are considered different if the order of the steps made is not exactly the same.\n",
    "\n",
    "Note that the number line includes negative integers."
   ]
  },
  {
   "cell_type": "code",
   "execution_count": null,
   "id": "0f9074d5",
   "metadata": {},
   "outputs": [],
   "source": [
    "class Solution:\n",
    "    def numberOfWays(self, startPos: int, endPos: int, k: int) -> int:\n",
    "        dp=[[-1]*1001 for _ in range(4001)]\n",
    "        def count(start,end,k):\n",
    "            if k==0 and start==end:\n",
    "                return 1\n",
    "            if k==0:\n",
    "                return 0\n",
    "            if dp[start+1000][k] != -1:\n",
    "                return dp[start+1000][k]\n",
    "            a=count(start+1,end,k-1)\n",
    "            a+=count(start-1,end,k-1)\n",
    "            dp[start+1000][k]=a%(10**9+7)\n",
    "            return dp[start+1000][k]\n",
    "        for i in range(3002):\n",
    "            for j in range(k+1):\n",
    "                dp[i][j]=-1\n",
    "        ans = count(startPos,endPos,k)\n",
    "        return ans%(10**9+7)"
   ]
  }
 ],
 "metadata": {
  "kernelspec": {
   "display_name": "Python 3 (ipykernel)",
   "language": "python",
   "name": "python3"
  },
  "language_info": {
   "codemirror_mode": {
    "name": "ipython",
    "version": 3
   },
   "file_extension": ".py",
   "mimetype": "text/x-python",
   "name": "python",
   "nbconvert_exporter": "python",
   "pygments_lexer": "ipython3",
   "version": "3.11.5"
  }
 },
 "nbformat": 4,
 "nbformat_minor": 5
}
