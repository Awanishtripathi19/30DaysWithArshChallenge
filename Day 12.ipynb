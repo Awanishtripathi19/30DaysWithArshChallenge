{
 "cells": [
  {
   "cell_type": "markdown",
   "id": "cb1add02",
   "metadata": {},
   "source": [
    "## Question 1"
   ]
  },
  {
   "cell_type": "markdown",
   "id": "0ffcf085",
   "metadata": {},
   "source": [
    "Given an array of integers nums and an integer k, return the number of unique k-diff pairs in the array.\n",
    "\n",
    "A k-diff pair is an integer pair (nums[i], nums[j]), where the following are true:\n",
    "\n",
    "1. 0 <= i, j < nums.length\n",
    "2. i != j\n",
    "3. |nums[i] - nums[j]| == k\n",
    "\n",
    "Notice that |val| denotes the absolute value of val."
   ]
  },
  {
   "cell_type": "code",
   "execution_count": null,
   "id": "951c5d67",
   "metadata": {},
   "outputs": [],
   "source": [
    "class Solution:\n",
    "    def findPairs(self, nums: List[int], k: int) -> int:\n",
    "        cnt=0\n",
    "        c=Counter(nums)\n",
    "        \n",
    "        if k==0:\n",
    "            for key,v in c.items():\n",
    "                if v>1:\n",
    "                    cnt+=1\n",
    "        else:\n",
    "            for key,v in c.items():\n",
    "                if key+k in c:\n",
    "                    cnt+=1\n",
    "        return cnt"
   ]
  },
  {
   "cell_type": "markdown",
   "id": "1537f6d1",
   "metadata": {},
   "source": [
    "## Question 2"
   ]
  },
  {
   "cell_type": "markdown",
   "id": "b8a06569",
   "metadata": {},
   "source": [
    "You are given a positive integer 0-indexed array nums.\n",
    "\n",
    "A subset of the array nums is square-free if the product of its elements is a square-free integer.\n",
    "\n",
    "A square-free integer is an integer that is divisible by no square number other than 1.\n",
    "\n",
    "Return the number of square-free non-empty subsets of the array nums. Since the answer may be too large, return it modulo 109 + 7.\n",
    "\n",
    "A non-empty subset of nums is an array that can be obtained by deleting some (possibly none but not all) elements from nums. Two subsets are different if and only if the chosen indices to delete are different."
   ]
  },
  {
   "cell_type": "code",
   "execution_count": null,
   "id": "a049e25e",
   "metadata": {},
   "outputs": [],
   "source": [
    "class Solution:\n",
    "    def squareFreeSubsets(self, nums: List[int]) -> int:\n",
    "        MOD = 10 ** 9 + 7\n",
    "        candidates = set([2, 3, 5, 6, 7, 10, 11, 13, 14, 15, 17, 19, 21, 22, 23, 26, 29, 30])\n",
    "        cnt = defaultdict(int)\n",
    "        for num in nums:\n",
    "            if num in candidates:\n",
    "                cnt[num] += 1\n",
    "        \n",
    "        def count(arr):\n",
    "            if not arr:\n",
    "                return 1\n",
    "            arr1 = []\n",
    "            for num in arr[1:]:\n",
    "                if math.gcd(num, arr[0]) == 1:\n",
    "                    arr1.append(num)\n",
    "            return (count(arr[1:]) + cnt[arr[0]] * count(arr1)) % MOD\n",
    "            \n",
    "        ones = nums.count(1)\n",
    "        tmp = 1\n",
    "        for _ in range(ones):\n",
    "            tmp = (tmp * 2) % MOD\n",
    "        return (count(list(cnt)) * tmp - 1) % MOD"
   ]
  },
  {
   "cell_type": "markdown",
   "id": "ea5e85e0",
   "metadata": {},
   "source": [
    "## Question 3"
   ]
  },
  {
   "cell_type": "markdown",
   "id": "9a5a81ab",
   "metadata": {},
   "source": [
    "You are given an integer array nums of length n.\n",
    "\n",
    "Assume arrk to be an array obtained by rotating nums by k positions clock-wise. We define the rotation function F on nums as follow:\n",
    "\n",
    "1. F(k) = 0 * arrk[0] + 1 * arrk[1] + ... + (n - 1) * arrk[n - 1].\n",
    "\n",
    "Return the maximum value of F(0), F(1), ..., F(n-1).\n",
    "\n",
    "The test cases are generated so that the answer fits in a 32-bit integer."
   ]
  },
  {
   "cell_type": "code",
   "execution_count": null,
   "id": "29ef505e",
   "metadata": {},
   "outputs": [],
   "source": [
    "class Solution:\n",
    "    def maxRotateFunction(self, nums: List[int]) -> int:\n",
    "        s, n = sum(nums), len(nums)\n",
    "        cur_sum = sum([i*j for i, j in enumerate(nums)])\n",
    "        ans = cur_sum\n",
    "        for i in range(n):\n",
    "             ans = max(ans, cur_sum := cur_sum + s-nums[n-1-i]*n)\n",
    "        return ans"
   ]
  }
 ],
 "metadata": {
  "kernelspec": {
   "display_name": "Python 3 (ipykernel)",
   "language": "python",
   "name": "python3"
  },
  "language_info": {
   "codemirror_mode": {
    "name": "ipython",
    "version": 3
   },
   "file_extension": ".py",
   "mimetype": "text/x-python",
   "name": "python",
   "nbconvert_exporter": "python",
   "pygments_lexer": "ipython3",
   "version": "3.11.5"
  }
 },
 "nbformat": 4,
 "nbformat_minor": 5
}
