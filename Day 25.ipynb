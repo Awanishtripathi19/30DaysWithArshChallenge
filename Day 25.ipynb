{
 "cells": [
  {
   "cell_type": "markdown",
   "id": "dde060da",
   "metadata": {},
   "source": [
    "## Question 1"
   ]
  },
  {
   "cell_type": "markdown",
   "id": "132ba9a2",
   "metadata": {},
   "source": [
    "Given two integer arrays arr1 and arr2, and the integer d, return the distance value between the two arrays.\n",
    "\n",
    "The distance value is defined as the number of elements arr1[i] such that there is not any element arr2[j] where |arr1[i]-arr2[j]| <= d."
   ]
  },
  {
   "cell_type": "code",
   "execution_count": null,
   "id": "d0d2669a",
   "metadata": {},
   "outputs": [],
   "source": [
    "class Solution:\n",
    "    def findTheDistanceValue(self, arr1: List[int], arr2: List[int], d: int) -> int:\n",
    "        count=0\n",
    "        arr2.sort()\n",
    "        for i in range(len(arr1)):\n",
    "            left,right=0,len(arr2)-1\n",
    "            while left<=right:\n",
    "                mid=(left+right)//2\n",
    "                if abs(arr1[i]-arr2[mid])<=d:\n",
    "                    count+=1\n",
    "                    break\n",
    "                elif arr1[i]<arr2[mid]:\n",
    "                    right=mid-1\n",
    "                else:\n",
    "                    left=mid+1\n",
    "        return len(arr1)-count"
   ]
  },
  {
   "cell_type": "markdown",
   "id": "c04ec332",
   "metadata": {},
   "source": [
    "## Question 2"
   ]
  },
  {
   "cell_type": "markdown",
   "id": "98d32e82",
   "metadata": {},
   "source": [
    "You are given an integer array nums and an integer k.\n",
    "\n",
    "The frequency of an element x is the number of times it occurs in an array.\n",
    "\n",
    "An array is called good if the frequency of each element in this array is less than or equal to k.\n",
    "\n",
    "Return the length of the longest good subarray of nums.\n",
    "\n",
    "A subarray is a contiguous non-empty sequence of elements within an array."
   ]
  },
  {
   "cell_type": "code",
   "execution_count": null,
   "id": "ce2087db",
   "metadata": {},
   "outputs": [],
   "source": [
    "class Solution:\n",
    "    def maxSubarrayLength(self, nums: List[int], k: int) -> int:\n",
    "        start = 0\n",
    "        end = 0\n",
    "        length = len(nums)\n",
    "        frequency_map = {}  # Dictionary to store the frequency of elements\n",
    "        \n",
    "        max_length = 0  # Variable to store the maximum length of the subarray with frequency <= k\n",
    "        \n",
    "        # Loop through the array using two pointers: start and end\n",
    "        while end < length:\n",
    "            frequency_map[nums[end]] = frequency_map.get(nums[end], 0) + 1  # Update frequency\n",
    "            \n",
    "            # If the frequency of the element exceeds 'k', adjust the window by moving 'start' pointer\n",
    "            if frequency_map[nums[end]] > k:\n",
    "                while start < end and frequency_map[nums[end]] > k:\n",
    "                    # Shrink the window by moving 'start' pointer and updating frequency_map\n",
    "                    if frequency_map[nums[start]] == 1:\n",
    "                        del frequency_map[nums[start]]  # Remove element if its count is 1\n",
    "                    else:\n",
    "                        frequency_map[nums[start]] -= 1  # Decrement frequency\n",
    "                    start += 1\n",
    "                \n",
    "            max_length = max(max_length, end - start + 1)  # Update max_length for each iteration\n",
    "            end += 1\n",
    "        \n",
    "        return max_length  # Return the maximum length of the subarray with frequency <= k\n",
    "\n"
   ]
  },
  {
   "cell_type": "markdown",
   "id": "01edb9e0",
   "metadata": {},
   "source": [
    "## Question 3"
   ]
  },
  {
   "cell_type": "markdown",
   "id": "1658cc13",
   "metadata": {},
   "source": [
    "You are given three integers x, y, and z.\n",
    "\n",
    "You have x strings equal to \"AA\", y strings equal to \"BB\", and z strings equal to \"AB\". You want to choose some (possibly all or none) of these strings and concatenate them in some order to form a new string. This new string must not contain \"AAA\" or \"BBB\" as a substring.\n",
    "\n",
    "Return the maximum possible length of the new string.\n",
    "\n",
    "A substring is a contiguous non-empty sequence of characters within a string."
   ]
  },
  {
   "cell_type": "code",
   "execution_count": null,
   "id": "6e1a55f3",
   "metadata": {},
   "outputs": [],
   "source": [
    "class Solution:\n",
    "    def longestString(self, x: int, y: int, z: int) -> int:\n",
    "        return 2 * (2 * min(x, y) + z + (1 if x != y else 0))"
   ]
  }
 ],
 "metadata": {
  "kernelspec": {
   "display_name": "Python 3 (ipykernel)",
   "language": "python",
   "name": "python3"
  },
  "language_info": {
   "codemirror_mode": {
    "name": "ipython",
    "version": 3
   },
   "file_extension": ".py",
   "mimetype": "text/x-python",
   "name": "python",
   "nbconvert_exporter": "python",
   "pygments_lexer": "ipython3",
   "version": "3.11.5"
  }
 },
 "nbformat": 4,
 "nbformat_minor": 5
}
