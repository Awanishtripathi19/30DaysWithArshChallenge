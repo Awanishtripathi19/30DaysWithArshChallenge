{
 "cells": [
  {
   "cell_type": "markdown",
   "id": "b74e6275",
   "metadata": {},
   "source": [
    "## Question 1"
   ]
  },
  {
   "cell_type": "markdown",
   "id": "0dfb6b76",
   "metadata": {},
   "source": [
    "You are given an integer mass, which represents the original mass of a planet. You are further given an integer array asteroids, where asteroids[i] is the mass of the ith asteroid.\n",
    "\n",
    "You can arrange for the planet to collide with the asteroids in any arbitrary order. If the mass of the planet is greater than or equal to the mass of the asteroid, the asteroid is destroyed and the planet gains the mass of the asteroid. Otherwise, the planet is destroyed.\n",
    "\n",
    "Return true if all asteroids can be destroyed. Otherwise, return false."
   ]
  },
  {
   "cell_type": "code",
   "execution_count": null,
   "id": "a536b91b",
   "metadata": {},
   "outputs": [],
   "source": [
    "class Solution:\n",
    "    def asteroidsDestroyed(self, mass: int, asteroids: List[int]) -> bool:\n",
    "        for a in sorted(asteroids):\n",
    "            if mass < a:\n",
    "                return False\n",
    "            mass += a\n",
    "        return True"
   ]
  },
  {
   "cell_type": "markdown",
   "id": "ecc80549",
   "metadata": {},
   "source": [
    "## Question 2"
   ]
  },
  {
   "cell_type": "markdown",
   "id": "ee54feb8",
   "metadata": {},
   "source": [
    "There are n cities numbered from 0 to n-1. Given the array edges where edges[i] = [fromi, toi, weighti] represents a bidirectional and weighted edge between cities fromi and toi, and given the integer distanceThreshold.\n",
    "\n",
    "Return the city with the smallest number of cities that are reachable through some path and whose distance is at most distanceThreshold, If there are multiple such cities, return the city with the greatest number.\n",
    "\n",
    "Notice that the distance of a path connecting cities i and j is equal to the sum of the edges' weights along that path."
   ]
  },
  {
   "cell_type": "code",
   "execution_count": null,
   "id": "a1dbb4a6",
   "metadata": {},
   "outputs": [],
   "source": [
    "class Solution:\n",
    "    def findTheCity(self, n: int, edges: List[List[int]], distanceThreshold: int) -> int:\n",
    "        cost=[[float('inf') if i!=j else 0 for j in range(n)] for i in range(n)]\n",
    "        for u,v,d in edges:\n",
    "            cost[u][v]=d\n",
    "            cost[v][u]=d\n",
    "        for via in range(n):\n",
    "            for i in range(n):\n",
    "                for j in range(n):\n",
    "                    cost[i][j]=min(cost[i][j],cost[i][via]+cost[via][j])\n",
    "        d={}\n",
    "        for i in range(n):\n",
    "            c=0\n",
    "            for j in range(n):\n",
    "                if cost[i][j]<=distanceThreshold and i!=j:\n",
    "                    c+=1\n",
    "            d[i]=c\n",
    "        m1=min(d.values())\n",
    "        m2=0\n",
    "        for k,v in d.items():\n",
    "            if m1==v:\n",
    "                m2=max(m2,k)\n",
    "        return m2"
   ]
  },
  {
   "cell_type": "markdown",
   "id": "c5ecb2b0",
   "metadata": {},
   "source": [
    "## Question 3"
   ]
  },
  {
   "cell_type": "markdown",
   "id": "8ed0332c",
   "metadata": {},
   "source": [
    "Convert a non-negative integer num to its English words representation."
   ]
  },
  {
   "cell_type": "code",
   "execution_count": null,
   "id": "63a0f994",
   "metadata": {},
   "outputs": [],
   "source": [
    "class Solution:\n",
    "    def numberToWords(self, num: int) -> str:\n",
    "        if num == 0:\n",
    "            return \"Zero\"\n",
    "        ones = [\"\", \"One\", \"Two\", \"Three\", \"Four\", \"Five\", \"Six\", \"Seven\", \"Eight\", \"Nine\"]\n",
    "        tens = [\"\", \"Ten\", \"Twenty\", \"Thirty\", \"Forty\", \"Fifty\", \"Sixty\", \"Seventy\", \"Eighty\", \"Ninety\"]\n",
    "        teens = [\"Ten\", \"Eleven\", \"Twelve\", \"Thirteen\", \"Fourteen\", \"Fifteen\", \"Sixteen\", \"Seventeen\", \"Eighteen\", \"Nineteen\"]\n",
    "        suffixes = [\"\", \"Thousand\", \"Million\", \"Billion\", \"Trillion\", \"Quadrillion\", \"Quintillion\", \"Sextillion\", \"Septillion\", \"Octillion\", \"Nonillion\", \"Decillion\"]\n",
    "        words = []\n",
    "        i = 0\n",
    "        while num > 0:\n",
    "            triplet = num % 1000\n",
    "            num = num // 1000\n",
    "            if triplet == 0:\n",
    "                i += 1\n",
    "                continue\n",
    "            temp = []\n",
    "            if triplet // 100 > 0:\n",
    "                temp.append(ones[triplet // 100])\n",
    "                temp.append(\"Hundred\")\n",
    "            if triplet % 100 >= 10 and triplet % 100 <= 19:\n",
    "                temp.append(teens[triplet % 10])\n",
    "            else:\n",
    "                if triplet % 100 >= 20:\n",
    "                    temp.append(tens[triplet % 100 // 10])\n",
    "                if triplet % 10 > 0:\n",
    "                    temp.append(ones[triplet % 10])\n",
    "            if i > 0:\n",
    "                temp.append(suffixes[i])\n",
    "            words = temp + words\n",
    "            i += 1\n",
    "        return \" \".join(words)"
   ]
  }
 ],
 "metadata": {
  "kernelspec": {
   "display_name": "Python 3 (ipykernel)",
   "language": "python",
   "name": "python3"
  },
  "language_info": {
   "codemirror_mode": {
    "name": "ipython",
    "version": 3
   },
   "file_extension": ".py",
   "mimetype": "text/x-python",
   "name": "python",
   "nbconvert_exporter": "python",
   "pygments_lexer": "ipython3",
   "version": "3.11.5"
  }
 },
 "nbformat": 4,
 "nbformat_minor": 5
}
