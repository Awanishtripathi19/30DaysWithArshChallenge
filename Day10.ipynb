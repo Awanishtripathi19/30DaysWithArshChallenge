{
 "cells": [
  {
   "cell_type": "markdown",
   "id": "bc7fc266",
   "metadata": {},
   "source": [
    "## Question 1"
   ]
  },
  {
   "cell_type": "markdown",
   "id": "b0f255b3",
   "metadata": {},
   "source": [
    "Given an integer array nums, reorder it such that nums[0] < nums[1] > nums[2] < nums[3]....\n",
    "\n",
    "You may assume the input array always has a valid answer."
   ]
  },
  {
   "cell_type": "code",
   "execution_count": null,
   "id": "aad1abaf",
   "metadata": {},
   "outputs": [],
   "source": [
    "class Solution:\n",
    "    def wiggleSort(self, nums: List[int]) -> None:\n",
    "        \"\"\"\n",
    "        Do not return anything, modify nums in-place instead.\n",
    "        \"\"\"\n",
    "        n = len(nums)\n",
    "        nums.sort()\n",
    "        mid = (n - 1) // 2\n",
    "        nums[::2], nums[1::2] = nums[mid::-1], nums[:mid:-1]"
   ]
  },
  {
   "cell_type": "markdown",
   "id": "830ba1d0",
   "metadata": {},
   "source": [
    "## Question 2"
   ]
  },
  {
   "cell_type": "markdown",
   "id": "9c0e9d2e",
   "metadata": {},
   "source": [
    "In LeetCode Store, there are n items to sell. Each item has a price. However, there are some special offers, and a special offer consists of one or more different kinds of items with a sale price.\n",
    "\n",
    "You are given an integer array price where price[i] is the price of the ith item, and an integer array needs where needs[i] is the number of pieces of the ith item you want to buy.\n",
    "\n",
    "You are also given an array special where special[i] is of size n + 1 where special[i][j] is the number of pieces of the jth item in the ith offer and special[i][n] (i.e., the last integer in the array) is the price of the ith offer.\n",
    "\n",
    "Return the lowest price you have to pay for exactly certain items as given, where you could make optimal use of the special offers. You are not allowed to buy more items than you want, even if that would lower the overall price. You could use any of the special offers as many times as you want."
   ]
  },
  {
   "cell_type": "code",
   "execution_count": null,
   "id": "aed13b2d",
   "metadata": {},
   "outputs": [],
   "source": [
    "class Solution:\n",
    "    def shoppingOffers(self, price: List[int], special: List[List[int]], needs: List[int]) -> int:\n",
    "        n = len(price)\n",
    "        @lru_cache(maxsize=None)\n",
    "        def dfs(needs):\n",
    "            ans = sum([i*j for i, j in zip(price, needs)]) \n",
    "            cur = sys.maxsize\n",
    "            for s in special:\n",
    "                new_needs, ok = [], True\n",
    "                for i in range(n):\n",
    "                    need, give = needs[i], s[i]\n",
    "                    if need < give:  # if over purchase, ignore this combination\n",
    "                        ok = False\n",
    "                        break\n",
    "                    new_needs.append(need-give)    \n",
    "                if ok: cur = min(cur, dfs(tuple(new_needs)) + s[-1])\n",
    "            return min(ans, cur)\n",
    "        return dfs(tuple(needs))"
   ]
  },
  {
   "cell_type": "markdown",
   "id": "f2ceca97",
   "metadata": {},
   "source": [
    "## Question 3"
   ]
  },
  {
   "cell_type": "markdown",
   "id": "e26c00ac",
   "metadata": {},
   "source": [
    "You are given two 0-indexed strings source and target, both of length n and consisting of lowercase English letters. You are also given two 0-indexed character arrays original and changed, and an integer array cost, where cost[i] represents the cost of changing the character original[i] to the character changed[i].\n",
    "\n",
    "You start with the string source. In one operation, you can pick a character x from the string and change it to the character y at a cost of z if there exists any index j such that cost[j] == z, original[j] == x, and changed[j] == y.\n",
    "\n",
    "Return the minimum cost to convert the string source to the string target using any number of operations. If it is impossible to convert source to target, return -1.\n",
    "\n",
    "Note that there may exist indices i, j such that original[j] == original[i] and changed[j] == changed[i]."
   ]
  },
  {
   "cell_type": "code",
   "execution_count": null,
   "id": "a1b52a2f",
   "metadata": {},
   "outputs": [],
   "source": [
    "from queue import PriorityQueue\n",
    "\n",
    "class Solution:\n",
    "    def minimumCost(self, source: str, target: str, original: List[str], changed: List[str], cost: List[int]) -> int:\n",
    "        graph = {}\n",
    "        for i, elem in enumerate(original):\n",
    "            if elem not in graph:\n",
    "                graph[elem] = {}\n",
    "            graph[elem][changed[i]] = min(cost[i], graph[elem].get(changed[i], float(\"inf\")))\n",
    "\n",
    "        total = 0\n",
    "        memo = {} # memoizes the shortest path from source to target\n",
    "        \n",
    "        for i, letter in enumerate(source):\n",
    "            if letter != target[i]:\n",
    "                result = self.find_path(source[i], target[i], graph, memo)\n",
    "                if result == -1:\n",
    "                    return -1\n",
    "                total += result\n",
    "        return total\n",
    "    \n",
    "    \n",
    "    def find_path(self, source, target, graph, memo):\n",
    "        if (source, target) in memo:\n",
    "            return memo[(source, target)]\n",
    "        \n",
    "        pq = PriorityQueue()\n",
    "        pq.put((0, source))\n",
    "        seen = set()\n",
    "        \n",
    "        while not pq.empty():\n",
    "            cost, letter = pq.get()\n",
    "            if letter == target:\n",
    "                memo[(source, target)] = cost\n",
    "                return cost\n",
    "            if letter not in seen:\n",
    "                seen.add(letter)\n",
    "                memo[(source, letter)] = cost\n",
    "                edges = graph.get(letter, [])\n",
    "                for edge in edges:\n",
    "                    pq.put((cost + edges[edge], edge))\n",
    "        return -1"
   ]
  }
 ],
 "metadata": {
  "kernelspec": {
   "display_name": "Python 3 (ipykernel)",
   "language": "python",
   "name": "python3"
  },
  "language_info": {
   "codemirror_mode": {
    "name": "ipython",
    "version": 3
   },
   "file_extension": ".py",
   "mimetype": "text/x-python",
   "name": "python",
   "nbconvert_exporter": "python",
   "pygments_lexer": "ipython3",
   "version": "3.11.5"
  }
 },
 "nbformat": 4,
 "nbformat_minor": 5
}
