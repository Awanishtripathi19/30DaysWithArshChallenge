{
 "cells": [
  {
   "cell_type": "markdown",
   "id": "782f344c",
   "metadata": {},
   "source": [
    "## 1st Question"
   ]
  },
  {
   "cell_type": "markdown",
   "id": "565256b0",
   "metadata": {},
   "source": [
    "We have two arrays arr1 and arr2 which are initially empty. You need to add positive integers to them such that they satisfy all the following conditions:\n",
    "\n",
    "1. arr1 contains uniqueCnt1 distinct positive integers, each of which is not divisible by divisor1.\n",
    "\n",
    "2. arr2 contains uniqueCnt2 distinct positive integers, each of which is not divisible by divisor2.\n",
    "\n",
    "3. No integer is present in both arr1 and arr2.\n",
    "\n",
    "Given divisor1, divisor2, uniqueCnt1, and uniqueCnt2, return the minimum possible maximum integer that can be present in either array."
   ]
  },
  {
   "cell_type": "code",
   "execution_count": 1,
   "id": "6738c901",
   "metadata": {},
   "outputs": [],
   "source": [
    "class Solution:\n",
    "    def minimizeSet(self, divisor1: int, divisor2: int, uniqueCnt1: int, uniqueCnt2: int) -> int:\n",
    "        low, high = 0, pow(2,32)-1\n",
    "        mult = lcm(divisor1, divisor2)\n",
    "        while low < high: \n",
    "            mid = (low+high)//2\n",
    "            if uniqueCnt1 <= mid - mid//divisor1 and uniqueCnt2 <= mid - mid//divisor2 and uniqueCnt1+uniqueCnt2 <= mid - mid//mult: high = mid\n",
    "            else: low = mid+1\n",
    "        return low"
   ]
  },
  {
   "cell_type": "markdown",
   "id": "c19dc9d9",
   "metadata": {},
   "source": [
    "## 2nd Question"
   ]
  },
  {
   "cell_type": "markdown",
   "id": "6b6c0861",
   "metadata": {},
   "source": [
    "You are given a 2D 0-indexed array of strings, access_times, with size n. For each i where 0 <= i <= n - 1, access_times[i][0] represents the name of an employee, and access_times[i][1] represents the access time of that employee. All entries in access_times are within the same day.\n",
    "\n",
    "The access time is represented as four digits using a 24-hour time format, for example, \"0800\" or \"2250\".\n",
    "\n",
    "An employee is said to be high-access if he has accessed the system three or more times within a one-hour period.\n",
    "\n",
    "Times with exactly one hour of difference are not considered part of the same one-hour period. For example, \"0815\" and \"0915\" are not part of the same one-hour period.\n",
    "\n",
    "Access times at the start and end of the day are not counted within the same one-hour period. For example, \"0005\" and \"2350\" are not part of the same one-hour period.\n",
    "\n",
    "Return a list that contains the names of high-access employees with any order you want."
   ]
  },
  {
   "cell_type": "code",
   "execution_count": 3,
   "id": "680b365b",
   "metadata": {},
   "outputs": [],
   "source": [
    "class Solution:\n",
    "    def findHighAccessEmployees(self, access_times: List[List[str]]) -> List[str]:\n",
    "        freq={}\n",
    "        for name,time in access_times:\n",
    "            if name not in freq:\n",
    "                freq[name]=[]\n",
    "            freq[name].append(int(time))\n",
    "        ans=set()\n",
    "        for key,value in freq.items():\n",
    "            value.sort()\n",
    "            if len(value)>2:\n",
    "                if self.isAccess(value):\n",
    "                    ans.add(key)\n",
    "        return ans\n",
    "    def isAccess(self,time):\n",
    "        n=len(time)\n",
    "        for i in range(2,n):\n",
    "            curTime=time[i]\n",
    "            prevTime=time[i-2]\n",
    "            if prevTime+99>=curTime:\n",
    "                return True\n",
    "        return False"
   ]
  },
  {
   "cell_type": "markdown",
   "id": "5039ae97",
   "metadata": {},
   "source": [
    "## 3rd Question"
   ]
  },
  {
   "cell_type": "markdown",
   "id": "979974ae",
   "metadata": {},
   "source": [
    "You are given a 0-indexed array of strings nums, where each string is of equal length and consists of only digits.\n",
    "\n",
    "You are also given a 0-indexed 2D integer array queries where queries[i] = [ki, trimi]. For each queries[i], you need to:\n",
    "\n",
    "1. Trim each number in nums to its rightmost trimi digits.\n",
    "2. Determine the index of the kith smallest trimmed number in nums. If two trimmed numbers are equal, the number with the lower index is considered to be smaller.\n",
    "3. Reset each number in nums to its original length.\n",
    "Return an array answer of the same length as queries, where answer[i] is the answer to the ith query.\n",
    "\n",
    "Note:\n",
    "\n",
    "1. To trim to the rightmost x digits means to keep removing the leftmost digit, until only x digits remain.\n",
    "2. Strings in nums may contain leading zeros."
   ]
  },
  {
   "cell_type": "code",
   "execution_count": null,
   "id": "71011da3",
   "metadata": {},
   "outputs": [],
   "source": [
    "class Solution:\n",
    "    def smallestTrimmedNumbers(self, nums: List[str], queries: List[List[int]]) -> List[int]:\n",
    "        ans, trimmed = [], {}\n",
    "        for k, trim in queries:\n",
    "            trimmed.setdefault(trim, sorted([(num[-trim :], i) for i, num in enumerate(nums)]))\n",
    "            ans.append(trimmed[trim][k - 1][1])\n",
    "        return ans"
   ]
  }
 ],
 "metadata": {
  "kernelspec": {
   "display_name": "Python 3 (ipykernel)",
   "language": "python",
   "name": "python3"
  },
  "language_info": {
   "codemirror_mode": {
    "name": "ipython",
    "version": 3
   },
   "file_extension": ".py",
   "mimetype": "text/x-python",
   "name": "python",
   "nbconvert_exporter": "python",
   "pygments_lexer": "ipython3",
   "version": "3.11.5"
  }
 },
 "nbformat": 4,
 "nbformat_minor": 5
}
