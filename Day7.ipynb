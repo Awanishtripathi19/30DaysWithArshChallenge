{
 "cells": [
  {
   "cell_type": "markdown",
   "id": "cd2ae202",
   "metadata": {},
   "source": [
    "## Question 1"
   ]
  },
  {
   "cell_type": "markdown",
   "id": "0ad81626",
   "metadata": {},
   "source": [
    "An image smoother is a filter of the size 3 x 3 that can be applied to each cell of an image by rounding down the average of the cell and the eight surrounding cells (i.e., the average of the nine cells in the blue smoother). If one or more of the surrounding cells of a cell is not present, we do not consider it in the average (i.e., the average of the four cells in the red smoother).\n",
    "\n",
    "Given an m x n integer matrix img representing the grayscale of an image, return the image after applying the smoother on each cell of it."
   ]
  },
  {
   "cell_type": "code",
   "execution_count": null,
   "id": "2e5895e5",
   "metadata": {},
   "outputs": [],
   "source": [
    "class Solution:\n",
    "    def imageSmoother(self, img: List[List[int]]) -> List[List[int]]:\n",
    "        rows, cols = len(img), len(img[0])\n",
    "        result = [[0] * cols for _ in range(rows)]\n",
    "\n",
    "        for i in range(rows):\n",
    "            for j in range(cols):\n",
    "                total_sum = 0\n",
    "                count = 0\n",
    "\n",
    "                for x in range(max(0, i-1), min(rows, i+2)):\n",
    "                    for y in range(max(0, j-1), min(cols, j+2)):\n",
    "                        total_sum += img[x][y]\n",
    "                        count += 1\n",
    "\n",
    "                result[i][j] = total_sum // count\n",
    "\n",
    "        return result"
   ]
  },
  {
   "cell_type": "markdown",
   "id": "ef1e89ce",
   "metadata": {},
   "source": [
    "## Question 2"
   ]
  },
  {
   "cell_type": "markdown",
   "id": "25326f9a",
   "metadata": {},
   "source": [
    "Given an integer array nums of size n, return the minimum number of moves required to make all array elements equal.\n",
    "\n",
    "In one move, you can increment or decrement an element of the array by 1.\n",
    "\n",
    "Test cases are designed so that the answer will fit in a 32-bit integer."
   ]
  },
  {
   "cell_type": "code",
   "execution_count": null,
   "id": "35a8c3a3",
   "metadata": {},
   "outputs": [],
   "source": [
    "class Solution:\n",
    "    def minMoves2(self, nums: List[int]) -> int:\n",
    "        nums.sort()\n",
    "        mid = nums[len(nums)//2]\n",
    "        result = 0\n",
    "        for i in nums:\n",
    "            result+=abs(mid-i)\n",
    "        return result"
   ]
  },
  {
   "cell_type": "markdown",
   "id": "c30d1ac3",
   "metadata": {},
   "source": [
    "## Question 3"
   ]
  },
  {
   "cell_type": "markdown",
   "id": "a76b879c",
   "metadata": {},
   "source": [
    "You are given an array of non-overlapping axis-aligned rectangles rects where rects[i] = [ai, bi, xi, yi] indicates that (ai, bi) is the bottom-left corner point of the ith rectangle and (xi, yi) is the top-right corner point of the ith rectangle. Design an algorithm to pick a random integer point inside the space covered by one of the given rectangles. A point on the perimeter of a rectangle is included in the space covered by the rectangle.\n",
    "\n",
    "Any integer point inside the space covered by one of the given rectangles should be equally likely to be returned.\n",
    "\n",
    "Note that an integer point is a point that has integer coordinates.\n",
    "\n",
    "Implement the Solution class:\n",
    "\n",
    "1. Solution(int[][] rects) Initializes the object with the given rectangles rects.\n",
    "2. int[] pick() Returns a random integer point [u, v] inside the space covered by one of the given rectangles."
   ]
  },
  {
   "cell_type": "code",
   "execution_count": null,
   "id": "7f5d4b27",
   "metadata": {},
   "outputs": [],
   "source": [
    "class Solution:\n",
    "\n",
    "    def __init__(self, rects: List[List[int]]):\n",
    "        self.rectangles = rects\n",
    "        \n",
    "        # record prefix sum of points number (i.e., acts like the CDF)\n",
    "        self.prefix_points_sum = []\n",
    "        \n",
    "        for x1, y1, x2, y2 in rects:\n",
    "            \n",
    "            # compute current number of points\n",
    "            cur_points = ( x2 - x1 + 1 ) * ( y2 - y1 + 1)\n",
    "            \n",
    "            # update to prefix table\n",
    "            if self.prefix_points_sum:\n",
    "                self.prefix_points_sum.append( self.prefix_points_sum[-1] + cur_points )\n",
    "                \n",
    "            else:\n",
    "                self.prefix_points_sum.append( cur_points )\n",
    "\n",
    "    def pick(self) -> List[int]:\n",
    "        total_num_of_points = self.prefix_points_sum[-1]\n",
    "        \n",
    "        # get a random point serial, sampling from 1 ~ total number of points\n",
    "        random_point_serial = randint(1, total_num_of_points)\n",
    "        \n",
    "        # get the rectangle index by looking up prefix table with bisection\n",
    "        idx_of_rectangle = bisect_left(self.prefix_points_sum, random_point_serial)\n",
    "        \n",
    "        # get the point range of that rectangle by index\n",
    "        x1, y1, x2, y2 = self.rectangles[idx_of_rectangle]\n",
    "        \n",
    "        # compute the offset value between prefix sum and random point serial\n",
    "        offset = self.prefix_points_sum[idx_of_rectangle] - random_point_serial\n",
    "        \n",
    "        # compute corresponding x, y points coordination in that rectangle\n",
    "        x = offset % ( x2 - x1 + 1) + x1\n",
    "        y = offset // ( x2 - x1 + 1) + y1\n",
    "        \n",
    "        return [x, y]\n",
    "\n",
    "\n",
    "# Your Solution object will be instantiated and called as such:\n",
    "# obj = Solution(rects)\n",
    "# param_1 = obj.pick()"
   ]
  }
 ],
 "metadata": {
  "kernelspec": {
   "display_name": "Python 3 (ipykernel)",
   "language": "python",
   "name": "python3"
  },
  "language_info": {
   "codemirror_mode": {
    "name": "ipython",
    "version": 3
   },
   "file_extension": ".py",
   "mimetype": "text/x-python",
   "name": "python",
   "nbconvert_exporter": "python",
   "pygments_lexer": "ipython3",
   "version": "3.11.5"
  }
 },
 "nbformat": 4,
 "nbformat_minor": 5
}
