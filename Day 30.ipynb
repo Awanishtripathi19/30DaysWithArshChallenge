{
 "cells": [
  {
   "cell_type": "markdown",
   "id": "8bc8e1da",
   "metadata": {},
   "source": [
    "## Question 1"
   ]
  },
  {
   "cell_type": "markdown",
   "id": "485f5a40",
   "metadata": {},
   "source": [
    "(This problem is an interactive problem.)\n",
    "\n",
    "You may recall that an array arr is a mountain array if and only if:\n",
    "\n",
    "1. arr.length >= 3\n",
    "2. There exists some i with 0 < i < arr.length - 1 such that:\n",
    "3. arr[0] < arr[1] < ... < arr[i - 1] < arr[i]\n",
    "4. ar r[i] > arr[i + 1] > ... > arr[arr.length - 1]\n",
    "\n",
    "Given a mountain array mountainArr, return the minimum index such that mountainArr.get(index) == target. If such an index does not exist, return -1.\n",
    "\n",
    "You cannot access the mountain array directly. You may only access the array using a MountainArray interface:\n",
    "\n",
    "1. MountainArray.get(k) returns the element of the array at index k (0-indexed).\n",
    "2. MountainArray.length() returns the length of the array.\n",
    "\n",
    "Submissions making more than 100 calls to MountainArray.get will be judged Wrong Answer. Also, any solutions that attempt to circumvent the judge will result in disqualification."
   ]
  },
  {
   "cell_type": "code",
   "execution_count": null,
   "id": "6c9dc90c",
   "metadata": {},
   "outputs": [],
   "source": [
    "# \"\"\"\n",
    "# This is MountainArray's API interface.\n",
    "# You should not implement it, or speculate about its implementation\n",
    "# \"\"\"\n",
    "#class MountainArray:\n",
    "#    def get(self, index: int) -> int:\n",
    "#    def length(self) -> int:\n",
    "\n",
    "class Solution:\n",
    "    def findInMountainArray(self, target: int, mountain_arr: 'MountainArray') -> int:\n",
    "        length = mountain_arr.length()\n",
    "\n",
    "        # Find the index of the peak element in the mountain array.\n",
    "        peak_index = self.find_peak_index(1, length - 2, mountain_arr)\n",
    "\n",
    "        # Binary search for the target in the increasing part of the mountain array.\n",
    "        increasing_index = self.binary_search(0, peak_index, target, mountain_arr, False)\n",
    "        if mountain_arr.get(increasing_index) == target:\n",
    "            return increasing_index  # Target found in the increasing part.\n",
    "\n",
    "        # Binary search for the target in the decreasing part of the mountain array.\n",
    "        decreasing_index = self.binary_search(peak_index + 1, length - 1, target, mountain_arr, True)\n",
    "        if mountain_arr.get(decreasing_index) == target:\n",
    "            return decreasing_index  # Target found in the decreasing part.\n",
    "\n",
    "        return -1  # Target not found in the mountain array.\n",
    "\n",
    "    def find_peak_index(self, low, high, mountainArr):\n",
    "        while low != high:\n",
    "            mid = low + (high - low) // 2\n",
    "            if mountainArr.get(mid) < mountainArr.get(mid + 1):\n",
    "                low = mid + 1  # Move to the right side (increasing slope).\n",
    "            else:\n",
    "                high = mid  # Move to the left side (decreasing slope).\n",
    "        return low  # Return the index of the peak element.\n",
    "\n",
    "    def binary_search(self, low, high, target, mountainArr, reversed):\n",
    "        while low != high:\n",
    "            mid = low + (high - low) // 2\n",
    "            if reversed:\n",
    "                if mountainArr.get(mid) > target:\n",
    "                    low = mid + 1  # Move to the right side for a decreasing slope.\n",
    "                else:\n",
    "                    high = mid  # Move to the left side for an increasing slope.\n",
    "            else:\n",
    "                if mountainArr.get(mid) < target:\n",
    "                    low = mid + 1  # Move to the right side for an increasing slope.\n",
    "                else:\n",
    "                    high = mid  # Move to the left side for a decreasing slope.\n",
    "        return low  # Return the index where the target should be or would be inserted."
   ]
  },
  {
   "cell_type": "markdown",
   "id": "ae7c01f6",
   "metadata": {},
   "source": [
    "## Question 2"
   ]
  },
  {
   "cell_type": "markdown",
   "id": "2bcf407b",
   "metadata": {},
   "source": [
    "Design a data structure that supports adding new words and finding if a string matches any previously added string.\n",
    "\n",
    "Implement the WordDictionary class:\n",
    "\n",
    "1. WordDictionary() Initializes the object.\n",
    "2. void addWord(word) Adds word to the data structure, it can be matched later.\n",
    "3. bool search(word) Returns true if there is any string in the data structure that matches word or false otherwise. word may contain dots '.' where dots can be matched with any letter."
   ]
  },
  {
   "cell_type": "code",
   "execution_count": null,
   "id": "7dbd12f7",
   "metadata": {},
   "outputs": [],
   "source": [
    "class TrieNode:\n",
    "    def __init__(self):\n",
    "        self.children = {}\n",
    "        self.is_word = False\n",
    "        \n",
    "class WordDictionary:\n",
    "    def __init__(self):\n",
    "        self.root = TrieNode()      \n",
    "\n",
    "    def addWord(self, word):\n",
    "        current_node = self.root\n",
    "        for character in word:\n",
    "            current_node = current_node.children.setdefault(character, TrieNode())\n",
    "        current_node.is_word = True\n",
    "        \n",
    "    def search(self, word):\n",
    "        def dfs(node, index):\n",
    "            if index == len(word):\n",
    "                return node.is_word\n",
    "               \n",
    "            if word[index] == \".\":\n",
    "                for child in node.children.values():\n",
    "                    if dfs(child, index+1):\n",
    "                        return True\n",
    "                    \n",
    "            if word[index] in node.children:\n",
    "                return dfs(node.children[word[index]], index+1)\n",
    "            \n",
    "            return False\n",
    "    \n",
    "        return dfs(self.root, 0)"
   ]
  },
  {
   "cell_type": "markdown",
   "id": "51632d82",
   "metadata": {},
   "source": [
    "## Question 3"
   ]
  },
  {
   "cell_type": "markdown",
   "id": "9cdbb075",
   "metadata": {},
   "source": [
    "You are given the root of a binary tree and an integer distance. A pair of two different leaf nodes of a binary tree is said to be good if the length of the shortest path between them is less than or equal to distance.\n",
    "\n",
    "Return the number of good leaf node pairs in the tree."
   ]
  },
  {
   "cell_type": "code",
   "execution_count": null,
   "id": "7c8a1545",
   "metadata": {},
   "outputs": [],
   "source": [
    "# Definition for a binary tree node.\n",
    "# class TreeNode:\n",
    "#     def __init__(self, val=0, left=None, right=None):\n",
    "#         self.val = val\n",
    "#         self.left = left\n",
    "#         self.right = right\n",
    "class Solution:\n",
    "    def countPairs(self, root: TreeNode, distance: int) -> int:\n",
    "        graph = collections.defaultdict(list)\n",
    "        \n",
    "        def dfs(node, par = None):\n",
    "            if node:\n",
    "                graph[node].append(par)\n",
    "                graph[par].append(node)\n",
    "                dfs(node.left, node)\n",
    "                dfs(node.right, node)\n",
    "\n",
    "        dfs(root)\n",
    "        \n",
    "        leaves = []\n",
    "        for node in graph.keys():\n",
    "            if node and not node.left and not node.right:\n",
    "                leaves.append(node)\n",
    "        \n",
    "        count = 0\n",
    "        \n",
    "        for leaf in leaves:\n",
    "            queue = [(leaf,0)]\n",
    "            seen = set(queue)\n",
    "            while queue:\n",
    "                node,length = queue.pop(0)\n",
    "                if length>distance:\n",
    "                    break\n",
    "                if node:\n",
    "                    for nei in graph[node]:\n",
    "                        if nei not in seen:\n",
    "                            seen.add(nei)\n",
    "                            queue.append((nei,length+1))\n",
    "                    if node!=leaf and not node.left and not node.right and length<=distance:\n",
    "                        count+=1\n",
    "                    \n",
    "        return count//2"
   ]
  }
 ],
 "metadata": {
  "kernelspec": {
   "display_name": "Python 3 (ipykernel)",
   "language": "python",
   "name": "python3"
  },
  "language_info": {
   "codemirror_mode": {
    "name": "ipython",
    "version": 3
   },
   "file_extension": ".py",
   "mimetype": "text/x-python",
   "name": "python",
   "nbconvert_exporter": "python",
   "pygments_lexer": "ipython3",
   "version": "3.11.5"
  }
 },
 "nbformat": 4,
 "nbformat_minor": 5
}
