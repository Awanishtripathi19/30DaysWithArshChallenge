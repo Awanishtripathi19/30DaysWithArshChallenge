{
 "cells": [
  {
   "cell_type": "markdown",
   "id": "7ed44291",
   "metadata": {},
   "source": [
    "## Question 1"
   ]
  },
  {
   "cell_type": "markdown",
   "id": "8693b8b9",
   "metadata": {},
   "source": [
    "Given the root of a binary search tree and the lowest and highest boundaries as low and high, trim the tree so that all its elements lies in [low, high]. Trimming the tree should not change the relative structure of the elements that will remain in the tree (i.e., any node's descendant should remain a descendant). It can be proven that there is a unique answer.\n",
    "\n",
    "Return the root of the trimmed binary search tree. Note that the root may change depending on the given bounds."
   ]
  },
  {
   "cell_type": "code",
   "execution_count": null,
   "id": "6ed61b31",
   "metadata": {},
   "outputs": [],
   "source": [
    "# Definition for a binary tree node.\n",
    "# class TreeNode:\n",
    "#     def __init__(self, val=0, left=None, right=None):\n",
    "#         self.val = val\n",
    "#         self.left = left\n",
    "#         self.right = right\n",
    "class Solution:\n",
    "    def trimBST(self, root: Optional[TreeNode], low: int, high: int) -> Optional[TreeNode]:\n",
    "        if not root:\n",
    "            return root\n",
    "        if root.val < low:\n",
    "            return self.trimBST(root.right, low, high)\n",
    "        if root.val > high: \n",
    "            return self.trimBST(root.left, low, high)\n",
    "        root.left = self.trimBST(root.left, low, high)\n",
    "        root.right = self.trimBST(root.right, low, high)\n",
    "        return root"
   ]
  },
  {
   "cell_type": "markdown",
   "id": "88f76d86",
   "metadata": {},
   "source": [
    "## Question 2"
   ]
  },
  {
   "cell_type": "markdown",
   "id": "d671c4da",
   "metadata": {},
   "source": [
    "You are given three integers x, y, and z.\n",
    "\n",
    "You have x strings equal to \"AA\", y strings equal to \"BB\", and z strings equal to \"AB\". You want to choose some (possibly all or none) of these strings and concatenate them in some order to form a new string. This new string must not contain \"AAA\" or \"BBB\" as a substring.\n",
    "\n",
    "Return the maximum possible length of the new string.\n",
    "\n",
    "A substring is a contiguous non-empty sequence of characters within a string."
   ]
  },
  {
   "cell_type": "code",
   "execution_count": null,
   "id": "87e7f96f",
   "metadata": {},
   "outputs": [],
   "source": [
    "class Solution:\n",
    "    def longestString(self, x: int, y: int, z: int) -> int:\n",
    "        return 2 * (2 * min(x, y) + z + (1 if x != y else 0))"
   ]
  },
  {
   "cell_type": "markdown",
   "id": "548abc11",
   "metadata": {},
   "source": [
    "## Question 3"
   ]
  },
  {
   "cell_type": "markdown",
   "id": "289bf140",
   "metadata": {},
   "source": [
    "A valid encoding of an array of words is any reference string s and array of indices indices such that:\n",
    "\n",
    "1. words.length == indices.length\n",
    "2. The reference string s ends with the '#' character.\n",
    "3. For each index indices[i], the substring of s starting from indices[i] and up to (but not including) the next '#' character is equal to words[i].\n",
    "\n",
    "Given an array of words, return the length of the shortest reference string s possible of any valid encoding of words."
   ]
  },
  {
   "cell_type": "code",
   "execution_count": null,
   "id": "d6f0c15a",
   "metadata": {},
   "outputs": [],
   "source": [
    "class Solution:\n",
    "    def minimumLengthEncoding(self, words: List[str]) -> int:\n",
    "        words.sort(key=len, reverse=True)\n",
    "        res = []\n",
    "        for suffix in words:\n",
    "            if not any(word.endswith(suffix) for word in res):  # check that this word is not actually a suffix\n",
    "                res.append(suffix)\n",
    "        return sum(len(word)+1 for word in res)  # append hash '#' symbol to each word that is not a suffix"
   ]
  }
 ],
 "metadata": {
  "kernelspec": {
   "display_name": "Python 3 (ipykernel)",
   "language": "python",
   "name": "python3"
  },
  "language_info": {
   "codemirror_mode": {
    "name": "ipython",
    "version": 3
   },
   "file_extension": ".py",
   "mimetype": "text/x-python",
   "name": "python",
   "nbconvert_exporter": "python",
   "pygments_lexer": "ipython3",
   "version": "3.11.5"
  }
 },
 "nbformat": 4,
 "nbformat_minor": 5
}
