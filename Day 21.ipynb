{
 "cells": [
  {
   "cell_type": "markdown",
   "id": "5708b402",
   "metadata": {},
   "source": [
    "## Question 1"
   ]
  },
  {
   "cell_type": "markdown",
   "id": "04eb0603",
   "metadata": {},
   "source": [
    "Assume you are an awesome parent and want to give your children some cookies. But, you should give each child at most one cookie.\n",
    "\n",
    "Each child i has a greed factor g[i], which is the minimum size of a cookie that the child will be content with; and each cookie j has a size s[j]. If s[j] >= g[i], we can assign the cookie j to the child i, and the child i will be content. Your goal is to maximize the number of your content children and output the maximum number.\n",
    "\n",
    " "
   ]
  },
  {
   "cell_type": "code",
   "execution_count": null,
   "id": "167da25c",
   "metadata": {},
   "outputs": [],
   "source": [
    "class Solution:\n",
    "    def findContentChildren(self, g: List[int], s: List[int]) -> int:\n",
    "        g.sort(reverse = True)\n",
    "        s.sort(reverse = True)\n",
    "        res, i , j = 0 ,0,0\n",
    "        while i<len(g) and j<len(s):\n",
    "            if g[i]<=s[j]:\n",
    "                res+=1\n",
    "                i+=1\n",
    "                j+=1\n",
    "            else:\n",
    "                i+=1\n",
    "        return res"
   ]
  },
  {
   "cell_type": "markdown",
   "id": "5c0d04fd",
   "metadata": {},
   "source": [
    "## Question 2"
   ]
  },
  {
   "cell_type": "markdown",
   "id": "6c4f4ac7",
   "metadata": {},
   "source": [
    "A kingdom consists of a king, his children, his grandchildren, and so on. Every once in a while, someone in the family dies or a child is born.\n",
    "\n",
    "The kingdom has a well-defined order of inheritance that consists of the king as the first member. Let's define the recursive function Successor(x, curOrder), which given a person x and the inheritance order so far, returns who should be the next person after x in the order of inheritance.\n",
    "\n",
    "Successor(x, curOrder):\n",
    "    if x has no children or all of x's children are in curOrder:\n",
    "        if x is the king return null\n",
    "        else return Successor(x's parent, curOrder)\n",
    "    else return x's oldest child who's not in curOrder\n",
    "For example, assume we have a kingdom that consists of the king, his children Alice and Bob (Alice is older than Bob), and finally Alice's son Jack.\n",
    "\n",
    "In the beginning, curOrder will be [\"king\"].\n",
    "1. Calling Successor(king, curOrder) will return Alice, so we append to curOrder to get [\"king\", \"Alice\"].\n",
    "2. Calling Successor(Alice, curOrder) will return Jack, so we append to curOrder to get [\"king\", \"Alice\", \"Jack\"].\n",
    "3. Calling Successor(Jack, curOrder) will return Bob, so we append to curOrder to get [\"king\", \"Alice\", \"Jack\", \"Bob\"].\n",
    "4. Calling Successor(Bob, curOrder) will return null. Thus the order of inheritance will be [\"king\", \"Alice\", \"Jack\", \"Bob\"].\n",
    "\n",
    "Using the above function, we can always obtain a unique order of inheritance.\n",
    "\n",
    "Implement the ThroneInheritance class:\n",
    "\n",
    "ThroneInheritance(string kingName) Initializes an object of the ThroneInheritance class. The name of the king is given as part of the constructor.\n",
    "1. void birth(string parentName, string childName) Indicates that parentName gave birth to childName.\n",
    "2. void death(string name) Indicates the death of name. The death of the person doesn't affect the Successor function nor the current inheritance order. You can treat it as just marking the person as dead.\n",
    "3. string[] getInheritanceOrder() Returns a list representing the current order of inheritance excluding dead people."
   ]
  },
  {
   "cell_type": "code",
   "execution_count": null,
   "id": "6bab74c7",
   "metadata": {},
   "outputs": [],
   "source": [
    "class TreeNode:\n",
    "\n",
    "    def __init__(self, name: str):\n",
    "        self.name = name\n",
    "        self.is_alive = True\n",
    "        self.children = []\n",
    "\n",
    "\n",
    "class ThroneInheritance:\n",
    "\n",
    "    def __init__(self, kingName: str):\n",
    "        self.root = TreeNode(kingName)\n",
    "        self.nodes = {kingName: self.root}\n",
    "\n",
    "    def birth(self, parentName: str, childName: str) -> None:\n",
    "        child = TreeNode(childName)\n",
    "        self.nodes[parentName].children.append(child)\n",
    "        self.nodes[childName] = child\n",
    "\n",
    "    def death(self, name: str) -> None:\n",
    "        self.nodes[name].is_alive = False\n",
    "\n",
    "    def getInheritanceOrder(self) -> List[str]:\n",
    "        \"\"\"\n",
    "        This method derives the inheritance order from this\n",
    "        object's inheritance tree.\n",
    "\n",
    "        :return: Array of names in inheritance order\n",
    "        :rtype: list[str]\n",
    "        \"\"\"\n",
    "        def recursive(head: TreeNode, inherit):\n",
    "            if head.is_alive:\n",
    "                inherit.append(head.name)\n",
    "            for child in head.children:\n",
    "                inherit = recursive(child, inherit)\n",
    "            return inherit\n",
    "\n",
    "        return recursive(self.root, [])\n",
    "\n",
    "\n",
    "# Your ThroneInheritance object will be instantiated and called as such:\n",
    "# obj = ThroneInheritance(kingName)\n",
    "# obj.birth(parentName,childName)\n",
    "# obj.death(name)\n",
    "# param_3 = obj.getInheritanceOrder()"
   ]
  },
  {
   "cell_type": "markdown",
   "id": "ca0eff07",
   "metadata": {},
   "source": [
    "## Question 3"
   ]
  },
  {
   "cell_type": "markdown",
   "id": "d2c1925a",
   "metadata": {},
   "source": [
    "Design a class to find the kth largest element in a stream. Note that it is the kth largest element in the sorted order, not the kth distinct element.\n",
    "\n",
    "Implement KthLargest class:\n",
    "\n",
    "1. KthLargest(int k, int[] nums) Initializes the object with the integer k and the stream of integers nums.\n",
    "2. int add(int val) Appends the integer val to the stream and returns the element representing the kth largest element in the stream.\n",
    " "
   ]
  },
  {
   "cell_type": "code",
   "execution_count": null,
   "id": "559d51e6",
   "metadata": {},
   "outputs": [],
   "source": [
    "class KthLargest:\n",
    "\n",
    "    def __init__(self, k: int, nums: List[int]):\n",
    "        self.heap = []\n",
    "        self.k = k\n",
    "        for i in nums:\n",
    "            if len(self.heap) < k:\n",
    "                heapq.heappush(self.heap,i)\n",
    "            else:\n",
    "                if i > self.heap[0]:\n",
    "                    heapq.heappushpop(self.heap,i)\n",
    "\n",
    "    def add(self, val: int) -> int:\n",
    "        if len(self.heap) < self.k:\n",
    "            heapq.heappush(self.heap,val)\n",
    "        else:\n",
    "            if val > self.heap[0]:\n",
    "                heapq.heappushpop(self.heap,val)      \n",
    "        return self.heap[0]\n",
    "\n",
    "\n",
    "# Your KthLargest object will be instantiated and called as such:\n",
    "# obj = KthLargest(k, nums)\n",
    "# param_1 = obj.add(val)"
   ]
  }
 ],
 "metadata": {
  "kernelspec": {
   "display_name": "Python 3 (ipykernel)",
   "language": "python",
   "name": "python3"
  },
  "language_info": {
   "codemirror_mode": {
    "name": "ipython",
    "version": 3
   },
   "file_extension": ".py",
   "mimetype": "text/x-python",
   "name": "python",
   "nbconvert_exporter": "python",
   "pygments_lexer": "ipython3",
   "version": "3.11.5"
  }
 },
 "nbformat": 4,
 "nbformat_minor": 5
}
