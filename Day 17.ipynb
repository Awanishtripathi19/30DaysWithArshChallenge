{
 "cells": [
  {
   "cell_type": "markdown",
   "id": "55edeaba",
   "metadata": {},
   "source": [
    "## Question 1"
   ]
  },
  {
   "cell_type": "markdown",
   "id": "7b24ea76",
   "metadata": {},
   "source": [
    "Given an integer array nums and an integer k, return the maximum sum of a non-empty subsequence of that array such that for every two consecutive integers in the subsequence, nums[i] and nums[j], where i < j, the condition j - i <= k is satisfied.\n",
    "\n",
    "A subsequence of an array is obtained by deleting some number of elements (can be zero) from the array, leaving the remaining elements in their original order."
   ]
  },
  {
   "cell_type": "code",
   "execution_count": null,
   "id": "90e1ab78",
   "metadata": {},
   "outputs": [],
   "source": [
    "class Solution:\n",
    "    def constrainedSubsetSum(self, nums: List[int], k: int) -> int:\n",
    "        q = deque()\n",
    "        res = float('-inf')\n",
    "\n",
    "        for i, num in enumerate(nums):\n",
    "            total = num + q[0][1] if q else num\n",
    "            res = max(res, total)\n",
    "\n",
    "            while q and total >= q[-1][1]:\n",
    "                q.pop()\n",
    "            \n",
    "            if total > 0:\n",
    "                q.append((i, total))\n",
    "            \n",
    "            if q and q[0][0] == i - k:\n",
    "                q.popleft()\n",
    "        \n",
    "        return res"
   ]
  },
  {
   "cell_type": "markdown",
   "id": "b837a726",
   "metadata": {},
   "source": [
    "## Question 2"
   ]
  },
  {
   "cell_type": "markdown",
   "id": "d60a9839",
   "metadata": {},
   "source": [
    "You are given a 0-indexed integer array nums containing n distinct positive integers. A permutation of nums is called special if:\n",
    "\n",
    "1. For all indexes 0 <= i < n - 1, either nums[i] % nums[i+1] == 0 or nums[i+1] % nums[i] == 0.\n",
    "\n",
    "Return the total number of special permutations. As the answer could be large, return it modulo 109 + 7."
   ]
  },
  {
   "cell_type": "code",
   "execution_count": null,
   "id": "6bb7bc78",
   "metadata": {},
   "outputs": [],
   "source": [
    "class Solution:\n",
    "    def specialPerm(self, nums: List[int]) -> int:\n",
    "        n, MOD = len(nums), 10**9 + 7\n",
    "        @cache\n",
    "        def dfs(prev, mask):\n",
    "            if mask == (1 << n) - 1: return 1\n",
    "            count = 0\n",
    "            for i in range(n):\n",
    "                if not (mask & (1 << i)) and (nums[i] % prev == 0 or prev % nums[i] == 0):\n",
    "                    count += dfs(nums[i], mask | (1 << i))\n",
    "            return count % MOD\n",
    "        return dfs(1, 0)"
   ]
  },
  {
   "cell_type": "markdown",
   "id": "9245b267",
   "metadata": {},
   "source": [
    "## Question 3"
   ]
  },
  {
   "cell_type": "markdown",
   "id": "2e505da9",
   "metadata": {},
   "source": [
    "You are given four integers row, cols, rCenter, and cCenter. There is a rows x cols matrix and you are on the cell with the coordinates (rCenter, cCenter).\n",
    "\n",
    "Return the coordinates of all cells in the matrix, sorted by their distance from (rCenter, cCenter) from the smallest distance to the largest distance. You may return the answer in any order that satisfies this condition.\n",
    "\n",
    "The distance between two cells (r1, c1) and (r2, c2) is |r1 - r2| + |c1 - c2|."
   ]
  },
  {
   "cell_type": "code",
   "execution_count": null,
   "id": "c3ef79d5",
   "metadata": {},
   "outputs": [],
   "source": [
    "class Solution:\n",
    "    def allCellsDistOrder(self, rows: int, cols: int, rCenter: int, cCenter: int) -> List[List[int]]:\n",
    "        def dist(point):\n",
    "            pi, pj = point\n",
    "            return abs(pi - rCenter) + abs(pj - cCenter)\n",
    "\n",
    "        points = [(i, j) for i in range(rows) for j in range(cols)]\n",
    "        return sorted(points, key=dist)"
   ]
  }
 ],
 "metadata": {
  "kernelspec": {
   "display_name": "Python 3 (ipykernel)",
   "language": "python",
   "name": "python3"
  },
  "language_info": {
   "codemirror_mode": {
    "name": "ipython",
    "version": 3
   },
   "file_extension": ".py",
   "mimetype": "text/x-python",
   "name": "python",
   "nbconvert_exporter": "python",
   "pygments_lexer": "ipython3",
   "version": "3.11.5"
  }
 },
 "nbformat": 4,
 "nbformat_minor": 5
}
