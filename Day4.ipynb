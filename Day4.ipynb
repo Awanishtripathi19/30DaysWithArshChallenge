{
 "cells": [
  {
   "cell_type": "markdown",
   "id": "118cbdf7",
   "metadata": {},
   "source": [
    "## Question 1"
   ]
  },
  {
   "cell_type": "markdown",
   "id": "512184e1",
   "metadata": {},
   "source": [
    "Given an integer array nums and two integers k and p, return the number of distinct subarrays, which have at most k elements that are divisible by p.\n",
    "\n",
    "Two arrays nums1 and nums2 are said to be distinct if:\n",
    "\n",
    "1. They are of different lengths, or\n",
    "2. There exists at least one index i where nums1[i] != nums2[i].\n",
    "\n",
    "A subarray is defined as a non-empty contiguous sequence of elements in an array."
   ]
  },
  {
   "cell_type": "code",
   "execution_count": null,
   "id": "212441b1",
   "metadata": {},
   "outputs": [],
   "source": [
    "class Solution:\n",
    "    def countDistinct(self, nums: List[int], k: int, p: int) -> int:\n",
    "        res=set()\n",
    "        for i in range(len(nums)):\n",
    "            subarray=\"\"\n",
    "            divisibleCount=0\n",
    "            for j in range(i,len(nums)):\n",
    "                    if nums[j]%p==0:\n",
    "                        divisibleCount+=1\n",
    "                    subarray+=str(nums[j])+','\n",
    "                    if divisibleCount>k:\n",
    "                        break\n",
    "                    res.add(subarray)\n",
    "        return len(res)"
   ]
  },
  {
   "cell_type": "markdown",
   "id": "5784bf5d",
   "metadata": {},
   "source": [
    "## Question 2"
   ]
  },
  {
   "cell_type": "markdown",
   "id": "b5757b4b",
   "metadata": {},
   "source": [
    "You are given an integer matrix isWater of size m x n that represents a map of land and water cells.\n",
    "\n",
    "1. If isWater[i][j] == 0, cell (i, j) is a land cell.\n",
    "2. If isWater[i][j] == 1, cell (i, j) is a water cell.\n",
    "\n",
    "You must assign each cell a height in a way that follows these rules:\n",
    "\n",
    "1. The height of each cell must be non-negative.\n",
    "2. If the cell is a water cell, its height must be 0.\n",
    "3. Any two adjacent cells must have an absolute height difference of at most 1. A cell is adjacent to another cell if the former is directly north, east, south, or west of the latter (i.e., their sides are touching).\n",
    "\n",
    "Find an assignment of heights such that the maximum height in the matrix is maximized.\n",
    "\n",
    "Return an integer matrix height of size m x n where height[i][j] is cell (i, j)'s height. If there are multiple solutions, return any of them."
   ]
  },
  {
   "cell_type": "code",
   "execution_count": null,
   "id": "baa18d29",
   "metadata": {},
   "outputs": [],
   "source": [
    "class Solution:\n",
    "    def highestPeak(self, isWater: List[List[int]]) -> List[List[int]]:\n",
    "        m, n = len(isWater), len(isWater[0]) # dimensions \n",
    "        queue = [(i, j) for i in range(m) for j in range(n) if isWater[i][j]]\n",
    "        \n",
    "        ht = 0\n",
    "        ans = [[0]*n for _ in range(m)]\n",
    "        seen = set(queue)\n",
    "        \n",
    "        while queue: \n",
    "            newq = []\n",
    "            for i, j in queue: \n",
    "                ans[i][j] = ht\n",
    "                for ii, jj in (i-1, j), (i, j-1), (i, j+1), (i+1, j): \n",
    "                    if 0 <= ii < m and 0 <= jj < n and (ii, jj) not in seen: \n",
    "                        newq.append((ii, jj))\n",
    "                        seen.add((ii, jj))\n",
    "            queue = newq\n",
    "            ht += 1\n",
    "        return ans "
   ]
  },
  {
   "cell_type": "markdown",
   "id": "053b1e29",
   "metadata": {},
   "source": [
    "## Question 3"
   ]
  },
  {
   "cell_type": "markdown",
   "id": "8d75703a",
   "metadata": {},
   "source": [
    "Given a binary tree root, return the maximum sum of all keys of any sub-tree which is also a Binary Search Tree (BST).\n",
    "\n",
    "Assume a BST is defined as follows:\n",
    "\n",
    "1. The left subtree of a node contains only nodes with keys less than the node's key.\n",
    "2. The right subtree of a node contains only nodes with keys greater than the node's key.\n",
    "3. Both the left and right subtrees must also be binary search trees."
   ]
  },
  {
   "cell_type": "code",
   "execution_count": null,
   "id": "bae9ba73",
   "metadata": {},
   "outputs": [],
   "source": [
    "# Definition for a binary tree node.\n",
    "# class TreeNode:\n",
    "#     def __init__(self, val=0, left=None, right=None):\n",
    "#         self.val = val\n",
    "#         self.left = left\n",
    "#         self.right = right\n",
    "class Solution:\n",
    "    def maxSumBST(self, root: Optional[TreeNode]) -> int:\n",
    "        res = 0\n",
    "        def traverse(root):\n",
    "            nonlocal res\n",
    "            if not root: return 1, 0, None, None \n",
    "            ls, l, ll, lr = traverse(root.left)\n",
    "            rs, r, rl, rr = traverse(root.right)\n",
    "            \n",
    "            if ((ls == 2 and lr < root.val) or ls == 1) and ((rs == 2 and rl > root.val) or rs == 1):\n",
    "                size = root.val + l + r\n",
    "                res = max(res, size)\n",
    "                return 2, size, (ll if ll is not None else root.val), (rr if rr is not None else root.val)\n",
    "            return 0, None, None, None\n",
    "        \n",
    "        traverse(root)\n",
    "        return res"
   ]
  }
 ],
 "metadata": {
  "kernelspec": {
   "display_name": "Python 3 (ipykernel)",
   "language": "python",
   "name": "python3"
  },
  "language_info": {
   "codemirror_mode": {
    "name": "ipython",
    "version": 3
   },
   "file_extension": ".py",
   "mimetype": "text/x-python",
   "name": "python",
   "nbconvert_exporter": "python",
   "pygments_lexer": "ipython3",
   "version": "3.11.5"
  }
 },
 "nbformat": 4,
 "nbformat_minor": 5
}
