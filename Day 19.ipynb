{
 "cells": [
  {
   "cell_type": "markdown",
   "id": "475a7976",
   "metadata": {},
   "source": [
    "## Question 1"
   ]
  },
  {
   "cell_type": "markdown",
   "id": "8f2a6703",
   "metadata": {},
   "source": [
    "You are given an integer array matches where matches[i] = [winneri, loseri] indicates that the player winneri defeated player loseri in a match.\n",
    "\n",
    "Return a list answer of size 2 where:\n",
    "\n",
    "1. answer[0] is a list of all players that have not lost any matches.\n",
    "2. answer[1] is a list of all players that have lost exactly one match.\n",
    "The values in the two lists should be returned in increasing order.\n",
    "\n",
    "Note:\n",
    "\n",
    "1. You should only consider the players that have played at least one match.\n",
    "2. The testcases will be generated such that no two matches will have the same outcome."
   ]
  },
  {
   "cell_type": "code",
   "execution_count": null,
   "id": "1ff4ce32",
   "metadata": {},
   "outputs": [],
   "source": [
    "class Solution:\n",
    "    def findWinners(self, matches):\n",
    "        losses = [0] * 100001\n",
    "\n",
    "        for winner, loser in matches:\n",
    "            if losses[winner] == 0:\n",
    "                losses[winner] = -1\n",
    "\n",
    "            if losses[loser] == -1:\n",
    "                losses[loser] = 1\n",
    "            else:\n",
    "                losses[loser] += 1\n",
    "\n",
    "        zero_loss = [i for i in range(1, 100001) if losses[i] == -1]\n",
    "        one_loss = [i for i in range(1, 100001) if losses[i] == 1]\n",
    "\n",
    "        return [zero_loss, one_loss]"
   ]
  },
  {
   "cell_type": "markdown",
   "id": "0d6565df",
   "metadata": {},
   "source": [
    "## Question 2"
   ]
  },
  {
   "cell_type": "markdown",
   "id": "c154c2a2",
   "metadata": {},
   "source": [
    "A cinema has n rows of seats, numbered from 1 to n and there are ten seats in each row, labelled from 1 to 10 as shown in the figure above.\n",
    "\n",
    "Given the array reservedSeats containing the numbers of seats already reserved, for example, reservedSeats[i] = [3,8] means the seat located in row 3 and labelled with 8 is already reserved.\n",
    "\n",
    "Return the maximum number of four-person groups you can assign on the cinema seats. A four-person group occupies four adjacent seats in one single row. Seats across an aisle (such as [3,3] and [3,4]) are not considered to be adjacent, but there is an exceptional case on which an aisle split a four-person group, in that case, the aisle split a four-person group in the middle, which means to have two people on each side."
   ]
  },
  {
   "cell_type": "code",
   "execution_count": null,
   "id": "3f8bf366",
   "metadata": {},
   "outputs": [],
   "source": [
    "class Solution:\n",
    "  def maxNumberOfFamilies(self, n, reservedSeats):\n",
    "    # Create a dictionary of sets to store the reserved seats by row\n",
    "    seats = collections.defaultdict(set)\n",
    "    # Iterate through the reserved seats\n",
    "    for i,j in reservedSeats:\n",
    "      # If the seat is an outside seat in the row, add it to tallies 0 and 1\n",
    "      if j in {4,5}: \n",
    "        seats[i].add(0) \n",
    "        seats[i].add(1)\n",
    "      # If the seat is a middle seat in the row, add it to tallies 1 and 2\n",
    "      elif j in {6,7}: \n",
    "        seats[i].add(1)\n",
    "        seats[i].add(2)\n",
    "      # If the seat is another type of seat, add it to the corresponding tally\n",
    "      elif j in {8,9}: \n",
    "        seats[i].add(2)\n",
    "      elif j in {2,3}:\n",
    "        seats[i].add(0)\n",
    "      # Initialize the result to twice the number of rows\n",
    "      res = 2*n\n",
    "    # Iterate through the rows of seats\n",
    "    for i in seats:\n",
    "      # If a row has all three tallies, subtract two from the result\n",
    "      if len(seats[i]) == 3: res -= 2\n",
    "      # Otherwise, subtract one from the result\n",
    "      else: res -= 1\n",
    "\n",
    "    # Return the final result\n",
    "    return res"
   ]
  },
  {
   "cell_type": "markdown",
   "id": "b620d004",
   "metadata": {},
   "source": [
    "## Question 3"
   ]
  },
  {
   "cell_type": "markdown",
   "id": "ab9081b0",
   "metadata": {},
   "source": [
    "n passengers board an airplane with exactly n seats. The first passenger has lost the ticket and picks a seat randomly. But after that, the rest of the passengers will:\n",
    "\n",
    "1. Take their own seat if it is still available, and\n",
    "2. Pick other seats randomly when they find their seat occupied\n",
    "\n",
    "Return the probability that the nth person gets his own seat."
   ]
  },
  {
   "cell_type": "code",
   "execution_count": null,
   "id": "1c45600e",
   "metadata": {},
   "outputs": [],
   "source": [
    "class Solution:\n",
    "    def nthPersonGetsNthSeat(self, n: int) -> float:\n",
    "        if n == 1:\n",
    "            return 1\n",
    "        if n == 2:\n",
    "            return 0.5\n",
    "        dp = [0] * (n + 1)\n",
    "        dp[1] = 1\n",
    "        dp[2] = 0.5\n",
    "        acc = 1.5\n",
    "        for i in range(3, n + 1):\n",
    "            dp[i] = (1.0 / i) * acc\n",
    "            acc += dp[i]\n",
    "        return dp[-1]"
   ]
  }
 ],
 "metadata": {
  "kernelspec": {
   "display_name": "Python 3 (ipykernel)",
   "language": "python",
   "name": "python3"
  },
  "language_info": {
   "codemirror_mode": {
    "name": "ipython",
    "version": 3
   },
   "file_extension": ".py",
   "mimetype": "text/x-python",
   "name": "python",
   "nbconvert_exporter": "python",
   "pygments_lexer": "ipython3",
   "version": "3.11.5"
  }
 },
 "nbformat": 4,
 "nbformat_minor": 5
}
